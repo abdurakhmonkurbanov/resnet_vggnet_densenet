{
 "cells": [
  {
   "cell_type": "code",
   "execution_count": 1,
   "metadata": {},
   "outputs": [],
   "source": [
    "import os\n",
    "import time\n",
    "import torch\n",
    "import torchvision.transforms as transforms\n",
    "from torchvision import datasets\n",
    "from torchvision.models import vit_b_16, ViT_B_16_Weights\n",
    "from torch.utils.data import DataLoader, random_split\n",
    "import torch.nn as nn\n",
    "import torch.optim as optim\n",
    "from tqdm import tqdm\n",
    "import numpy as np\n",
    "\n"
   ]
  },
  {
   "cell_type": "code",
   "execution_count": 2,
   "metadata": {},
   "outputs": [
    {
     "name": "stdout",
     "output_type": "stream",
     "text": [
      "GPU mavjud: NVIDIA GeForce RTX 3060\n",
      "cuda\n"
     ]
    }
   ],
   "source": [
    "# GPU ni tekshirish\n",
    "if torch.cuda.is_available():\n",
    "    device = torch.device(\"cuda\")\n",
    "    print(f\"GPU mavjud: {torch.cuda.get_device_name(device)}\")\n",
    "else:\n",
    "    device = torch.device(\"cpu\")\n",
    "    print(\"GPU mavjud emas, CPU ishlatiladi.\")\n",
    "\n",
    "torch.cuda.empty_cache()\n",
    "device = torch.device('cuda' if torch.cuda.is_available() else 'cpu')\n",
    "print(device)"
   ]
  },
  {
   "cell_type": "code",
   "execution_count": 3,
   "metadata": {},
   "outputs": [
    {
     "name": "stdout",
     "output_type": "stream",
     "text": [
      "Class names: ['anger', 'contempt', 'disgust', 'fear', 'happy', 'neutral', 'sad', 'surprise']\n",
      "Class Weights: tensor([0.9640, 1.8096, 0.9624, 0.9188, 0.9474, 0.9310, 0.8968, 0.9634],\n",
      "       device='cuda:0')\n"
     ]
    }
   ],
   "source": [
    "# Ma'lumotlar to'plamini yuklash va transformatsiyalar\n",
    "data_dir = 'face_emoc_ds'\n",
    "batch_size = 32\n",
    "image_size = 224\n",
    "\n",
    "# Data augmentation va transformatsiyalar\n",
    "transform = transforms.Compose([\n",
    "    transforms.Lambda(lambda img: img if img.mode == 'RGB' else img.convert('RGB')),\n",
    "    transforms.Resize((image_size, image_size)),\n",
    "    transforms.RandomHorizontalFlip(),\n",
    "    transforms.RandomRotation(10),\n",
    "    transforms.ColorJitter(brightness=0.2, contrast=0.2, saturation=0.2, hue=0.1),\n",
    "    transforms.RandomResizedCrop(image_size, scale=(0.8, 1.0)),\n",
    "    transforms.RandomAffine(degrees=0, translate=(0.1, 0.1)),\n",
    "    transforms.RandomPerspective(distortion_scale=0.2, p=0.5),\n",
    "    transforms.ToTensor(),\n",
    "    transforms.RandomErasing(p=0.7, scale=(0.02, 0.2), ratio=(0.3, 3.3), value=(0, 0, 0)),\n",
    "    transforms.Normalize(mean=[0.485, 0.456, 0.406], std=[0.229, 0.224, 0.225])\n",
    "])\n",
    "\n",
    "dataset = datasets.ImageFolder(data_dir, transform=transform)\n",
    "train_size = int(0.8 * len(dataset))\n",
    "val_size = len(dataset) - train_size\n",
    "train_dataset, val_dataset = random_split(dataset, [train_size, val_size])\n",
    "\n",
    "train_loader = DataLoader(train_dataset, batch_size=batch_size, shuffle=True)\n",
    "val_loader = DataLoader(val_dataset, batch_size=batch_size, shuffle=False)\n",
    "\n",
    "class_names = dataset.classes\n",
    "print(\"Class names:\", class_names)\n",
    "\n",
    "# Class Weights hisoblash\n",
    "class_counts = np.array([9390, 5002, 9405, 9851, 9554, 9722, 10093, 9395])\n",
    "num_samples = np.sum(class_counts)\n",
    "class_weights = num_samples / (len(class_counts) * class_counts)\n",
    "class_weights = torch.FloatTensor(class_weights).to(device)\n",
    "print(\"Class Weights:\", class_weights)"
   ]
  },
  {
   "cell_type": "code",
   "execution_count": 4,
   "metadata": {},
   "outputs": [],
   "source": [
    "# Modelni yuklash va sozlash\n",
    "def load_model(model_name, num_classes):\n",
    "    if model_name == 'vit_b_16':\n",
    "        model = vit_b_16(weights=ViT_B_16_Weights.DEFAULT)\n",
    "        model.heads.head = nn.Linear(model.heads.head.in_features, num_classes)\n",
    "    else:\n",
    "        raise ValueError(\"Only 'vit_b_16' is supported.\")\n",
    "    for param in model.parameters():\n",
    "        param.requires_grad = True\n",
    "    return model.to(device)\n",
    "\n",
    "model_name = 'vit_b_16'\n",
    "model = load_model(model_name, len(class_names))"
   ]
  },
  {
   "cell_type": "code",
   "execution_count": 5,
   "metadata": {},
   "outputs": [
    {
     "name": "stderr",
     "output_type": "stream",
     "text": [
      "c:\\Program Files\\Python312\\Lib\\site-packages\\torch\\optim\\lr_scheduler.py:60: UserWarning: The verbose parameter is deprecated. Please use get_last_lr() to access the learning rate.\n",
      "  warnings.warn(\n"
     ]
    }
   ],
   "source": [
    "# Loss va optimizer\n",
    "criterion = nn.CrossEntropyLoss(weight=class_weights)\n",
    "optimizer = optim.Adam(model.parameters(), lr=0.0001)\n",
    "scheduler = torch.optim.lr_scheduler.ReduceLROnPlateau(optimizer, mode='min', factor=0.1, patience=5, verbose=True)"
   ]
  },
  {
   "cell_type": "code",
   "execution_count": 6,
   "metadata": {},
   "outputs": [],
   "source": [
    "# Trening va validatsiya funksiyasi\n",
    "def train_and_validate(model, criterion, optimizer, train_loader, val_loader, num_epochs=10):\n",
    "    train_losses, val_losses = [], []\n",
    "    train_accuracies, val_accuracies = [], []\n",
    "    epoch_times = []\n",
    "\n",
    "    with open(\"training_results.txt\", \"w\") as f:\n",
    "        f.write(\"Epoch, Train Loss, Train Accuracy, Val Loss, Val Accuracy, Time (sec)\\n\")\n",
    "\n",
    "    for epoch in range(num_epochs):\n",
    "        start_time = time.time()\n",
    "\n",
    "        # O'quv rejimi\n",
    "        model.train()\n",
    "        train_loss, train_correct = 0.0, 0\n",
    "\n",
    "        for inputs, labels in tqdm(train_loader, desc=f\"Epoch {epoch+1}/{num_epochs} - Training\"):\n",
    "            inputs, labels = inputs.to(device), labels.to(device)\n",
    "            optimizer.zero_grad()\n",
    "            outputs = model(inputs)\n",
    "            loss = criterion(outputs, labels)\n",
    "            loss.backward()\n",
    "            optimizer.step()\n",
    "\n",
    "            train_loss += loss.item() * inputs.size(0)\n",
    "            _, preds = torch.max(outputs, 1)\n",
    "            train_correct += torch.sum(preds == labels.data)\n",
    "\n",
    "        epoch_train_loss = train_loss / len(train_loader.dataset)\n",
    "        epoch_train_acc = 100 * train_correct.double() / len(train_loader.dataset)\n",
    "        train_losses.append(epoch_train_loss)\n",
    "        train_accuracies.append(epoch_train_acc)\n",
    "\n",
    "        # Validatsiya rejimi\n",
    "        model.eval()\n",
    "        val_loss, val_correct = 0.0, 0\n",
    "\n",
    "        with torch.no_grad():\n",
    "            for inputs, labels in tqdm(val_loader, desc=\"Validation\"):\n",
    "                inputs, labels = inputs.to(device), labels.to(device)\n",
    "                outputs = model(inputs)\n",
    "                loss = criterion(outputs, labels)\n",
    "\n",
    "                val_loss += loss.item() * inputs.size(0)\n",
    "                _, preds = torch.max(outputs, 1)\n",
    "                val_correct += torch.sum(preds == labels.data)\n",
    "\n",
    "        epoch_val_loss = val_loss / len(val_loader.dataset)\n",
    "        epoch_val_acc = 100 * val_correct.double() / len(val_loader.dataset)\n",
    "        val_losses.append(epoch_val_loss)\n",
    "        val_accuracies.append(epoch_val_acc)\n",
    "\n",
    "        epoch_time = time.time() - start_time\n",
    "        epoch_times.append(epoch_time)\n",
    "\n",
    "        print(f'Epoch {epoch+1}/{num_epochs}, '\n",
    "              f'Train Loss: {epoch_train_loss:.4f}, Train Accuracy: {epoch_train_acc:.2f}%, '\n",
    "              f'Val Loss: {epoch_val_loss:.4f}, Val Accuracy: {epoch_val_acc:.2f}%, '\n",
    "              f'Time: {epoch_time:.2f} sec')\n",
    "\n",
    "        with open(\"training_results.txt\", \"a\") as f:\n",
    "            f.write(f\"{epoch+1}, {epoch_train_loss:.4f}, {epoch_train_acc:.2f}, \"\n",
    "                    f\"{epoch_val_loss:.4f}, {epoch_val_acc:.2f}, {epoch_time:.2f}\\n\")\n",
    "\n",
    "        scheduler.step(epoch_val_loss)\n",
    "        torch.save(model.state_dict(), f'{model_name}_epoch_{epoch+1}.pth')\n",
    "\n",
    "    return train_losses, train_accuracies, val_losses, val_accuracies, epoch_times"
   ]
  },
  {
   "cell_type": "code",
   "execution_count": 7,
   "metadata": {},
   "outputs": [
    {
     "name": "stderr",
     "output_type": "stream",
     "text": [
      "Epoch 1/30 - Training:   0%|          | 0/1811 [00:00<?, ?it/s]c:\\Program Files\\Python312\\Lib\\site-packages\\torch\\nn\\functional.py:5560: UserWarning: 1Torch was not compiled with flash attention. (Triggered internally at C:\\actions-runner\\_work\\pytorch\\pytorch\\builder\\windows\\pytorch\\aten\\src\\ATen\\native\\transformers\\cuda\\sdp_utils.cpp:555.)\n",
      "  attn_output = scaled_dot_product_attention(q, k, v, attn_mask, dropout_p, is_causal)\n",
      "Epoch 1/30 - Training: 100%|██████████| 1811/1811 [34:36<00:00,  1.15s/it]\n",
      "Validation: 100%|██████████| 453/453 [05:29<00:00,  1.38it/s]\n"
     ]
    },
    {
     "name": "stdout",
     "output_type": "stream",
     "text": [
      "Epoch 1/30, Train Loss: 1.2027, Train Accuracy: 55.23%, Val Loss: 1.0386, Val Accuracy: 61.40%, Time: 2405.71 sec\n"
     ]
    },
    {
     "name": "stderr",
     "output_type": "stream",
     "text": [
      "Epoch 2/30 - Training: 100%|██████████| 1811/1811 [26:09<00:00,  1.15it/s]\n",
      "Validation: 100%|██████████| 453/453 [02:25<00:00,  3.11it/s]\n"
     ]
    },
    {
     "name": "stdout",
     "output_type": "stream",
     "text": [
      "Epoch 2/30, Train Loss: 0.9819, Train Accuracy: 63.86%, Val Loss: 0.9826, Val Accuracy: 63.35%, Time: 1715.11 sec\n"
     ]
    },
    {
     "name": "stderr",
     "output_type": "stream",
     "text": [
      "Epoch 3/30 - Training: 100%|██████████| 1811/1811 [25:37<00:00,  1.18it/s]\n",
      "Validation: 100%|██████████| 453/453 [03:44<00:00,  2.02it/s]\n"
     ]
    },
    {
     "name": "stdout",
     "output_type": "stream",
     "text": [
      "Epoch 3/30, Train Loss: 0.9276, Train Accuracy: 65.67%, Val Loss: 0.9639, Val Accuracy: 65.78%, Time: 1761.49 sec\n"
     ]
    },
    {
     "name": "stderr",
     "output_type": "stream",
     "text": [
      "Epoch 4/30 - Training: 100%|██████████| 1811/1811 [29:18<00:00,  1.03it/s]\n",
      "Validation: 100%|██████████| 453/453 [03:45<00:00,  2.01it/s]\n"
     ]
    },
    {
     "name": "stdout",
     "output_type": "stream",
     "text": [
      "Epoch 4/30, Train Loss: 0.8780, Train Accuracy: 67.53%, Val Loss: 0.9443, Val Accuracy: 65.46%, Time: 1983.72 sec\n"
     ]
    },
    {
     "name": "stderr",
     "output_type": "stream",
     "text": [
      "Epoch 5/30 - Training: 100%|██████████| 1811/1811 [29:07<00:00,  1.04it/s]\n",
      "Validation: 100%|██████████| 453/453 [03:42<00:00,  2.04it/s]\n"
     ]
    },
    {
     "name": "stdout",
     "output_type": "stream",
     "text": [
      "Epoch 5/30, Train Loss: 0.8428, Train Accuracy: 68.85%, Val Loss: 0.9248, Val Accuracy: 65.61%, Time: 1969.40 sec\n"
     ]
    },
    {
     "name": "stderr",
     "output_type": "stream",
     "text": [
      "Epoch 6/30 - Training: 100%|██████████| 1811/1811 [29:09<00:00,  1.04it/s]\n",
      "Validation: 100%|██████████| 453/453 [03:45<00:00,  2.01it/s]\n"
     ]
    },
    {
     "name": "stdout",
     "output_type": "stream",
     "text": [
      "Epoch 6/30, Train Loss: 0.8119, Train Accuracy: 70.06%, Val Loss: 0.8917, Val Accuracy: 67.20%, Time: 1975.21 sec\n"
     ]
    },
    {
     "name": "stderr",
     "output_type": "stream",
     "text": [
      "Epoch 7/30 - Training: 100%|██████████| 1811/1811 [27:02<00:00,  1.12it/s]\n",
      "Validation: 100%|██████████| 453/453 [06:12<00:00,  1.22it/s]\n"
     ]
    },
    {
     "name": "stdout",
     "output_type": "stream",
     "text": [
      "Epoch 7/30, Train Loss: 0.7850, Train Accuracy: 70.90%, Val Loss: 0.8952, Val Accuracy: 67.09%, Time: 1995.19 sec\n"
     ]
    },
    {
     "name": "stderr",
     "output_type": "stream",
     "text": [
      "Epoch 8/30 - Training: 100%|██████████| 1811/1811 [36:42<00:00,  1.22s/it]\n",
      "Validation: 100%|██████████| 453/453 [02:25<00:00,  3.11it/s]\n"
     ]
    },
    {
     "name": "stdout",
     "output_type": "stream",
     "text": [
      "Epoch 8/30, Train Loss: 0.7579, Train Accuracy: 72.17%, Val Loss: 0.8660, Val Accuracy: 67.51%, Time: 2347.72 sec\n"
     ]
    },
    {
     "name": "stderr",
     "output_type": "stream",
     "text": [
      "Epoch 9/30 - Training: 100%|██████████| 1811/1811 [26:01<00:00,  1.16it/s]\n",
      "Validation: 100%|██████████| 453/453 [03:16<00:00,  2.31it/s]\n"
     ]
    },
    {
     "name": "stdout",
     "output_type": "stream",
     "text": [
      "Epoch 9/30, Train Loss: 0.7307, Train Accuracy: 73.07%, Val Loss: 0.8494, Val Accuracy: 68.94%, Time: 1757.58 sec\n"
     ]
    },
    {
     "name": "stderr",
     "output_type": "stream",
     "text": [
      "Epoch 10/30 - Training: 100%|██████████| 1811/1811 [24:22<00:00,  1.24it/s]\n",
      "Validation: 100%|██████████| 453/453 [02:25<00:00,  3.12it/s]\n"
     ]
    },
    {
     "name": "stdout",
     "output_type": "stream",
     "text": [
      "Epoch 10/30, Train Loss: 0.7074, Train Accuracy: 74.00%, Val Loss: 0.8333, Val Accuracy: 69.73%, Time: 1607.46 sec\n"
     ]
    },
    {
     "name": "stderr",
     "output_type": "stream",
     "text": [
      "Epoch 11/30 - Training: 100%|██████████| 1811/1811 [23:28<00:00,  1.29it/s]\n",
      "Validation: 100%|██████████| 453/453 [02:25<00:00,  3.11it/s]\n"
     ]
    },
    {
     "name": "stdout",
     "output_type": "stream",
     "text": [
      "Epoch 11/30, Train Loss: 0.6851, Train Accuracy: 74.48%, Val Loss: 0.8279, Val Accuracy: 70.03%, Time: 1553.87 sec\n"
     ]
    },
    {
     "name": "stderr",
     "output_type": "stream",
     "text": [
      "Epoch 12/30 - Training: 100%|██████████| 1811/1811 [23:27<00:00,  1.29it/s]\n",
      "Validation: 100%|██████████| 453/453 [02:25<00:00,  3.12it/s]\n"
     ]
    },
    {
     "name": "stdout",
     "output_type": "stream",
     "text": [
      "Epoch 12/30, Train Loss: 0.6592, Train Accuracy: 75.83%, Val Loss: 0.8401, Val Accuracy: 69.55%, Time: 1552.90 sec\n"
     ]
    },
    {
     "name": "stderr",
     "output_type": "stream",
     "text": [
      "Epoch 13/30 - Training: 100%|██████████| 1811/1811 [23:28<00:00,  1.29it/s]\n",
      "Validation: 100%|██████████| 453/453 [02:25<00:00,  3.12it/s]\n"
     ]
    },
    {
     "name": "stdout",
     "output_type": "stream",
     "text": [
      "Epoch 13/30, Train Loss: 0.6378, Train Accuracy: 76.39%, Val Loss: 0.8542, Val Accuracy: 69.37%, Time: 1553.66 sec\n"
     ]
    },
    {
     "name": "stderr",
     "output_type": "stream",
     "text": [
      "Epoch 14/30 - Training: 100%|██████████| 1811/1811 [23:28<00:00,  1.29it/s]\n",
      "Validation: 100%|██████████| 453/453 [02:27<00:00,  3.08it/s]\n"
     ]
    },
    {
     "name": "stdout",
     "output_type": "stream",
     "text": [
      "Epoch 14/30, Train Loss: 0.6129, Train Accuracy: 77.48%, Val Loss: 0.8127, Val Accuracy: 71.02%, Time: 1555.26 sec\n"
     ]
    },
    {
     "name": "stderr",
     "output_type": "stream",
     "text": [
      "Epoch 15/30 - Training: 100%|██████████| 1811/1811 [23:27<00:00,  1.29it/s]\n",
      "Validation: 100%|██████████| 453/453 [02:25<00:00,  3.12it/s]\n"
     ]
    },
    {
     "name": "stdout",
     "output_type": "stream",
     "text": [
      "Epoch 15/30, Train Loss: 0.5892, Train Accuracy: 78.22%, Val Loss: 0.8275, Val Accuracy: 69.84%, Time: 1553.03 sec\n"
     ]
    },
    {
     "name": "stderr",
     "output_type": "stream",
     "text": [
      "Epoch 16/30 - Training: 100%|██████████| 1811/1811 [23:00<00:00,  1.31it/s]\n",
      "Validation: 100%|██████████| 453/453 [02:41<00:00,  2.80it/s]\n"
     ]
    },
    {
     "name": "stdout",
     "output_type": "stream",
     "text": [
      "Epoch 16/30, Train Loss: 0.5596, Train Accuracy: 79.45%, Val Loss: 0.8791, Val Accuracy: 70.68%, Time: 1542.88 sec\n"
     ]
    },
    {
     "name": "stderr",
     "output_type": "stream",
     "text": [
      "Epoch 17/30 - Training: 100%|██████████| 1811/1811 [23:03<00:00,  1.31it/s]\n",
      "Validation: 100%|██████████| 453/453 [02:25<00:00,  3.11it/s]\n"
     ]
    },
    {
     "name": "stdout",
     "output_type": "stream",
     "text": [
      "Epoch 17/30, Train Loss: 0.5407, Train Accuracy: 79.88%, Val Loss: 0.8782, Val Accuracy: 69.77%, Time: 1529.08 sec\n"
     ]
    },
    {
     "name": "stderr",
     "output_type": "stream",
     "text": [
      "Epoch 18/30 - Training: 100%|██████████| 1811/1811 [23:26<00:00,  1.29it/s]\n",
      "Validation: 100%|██████████| 453/453 [02:25<00:00,  3.12it/s]\n"
     ]
    },
    {
     "name": "stdout",
     "output_type": "stream",
     "text": [
      "Epoch 18/30, Train Loss: 0.5214, Train Accuracy: 80.76%, Val Loss: 0.8470, Val Accuracy: 71.00%, Time: 1551.63 sec\n"
     ]
    },
    {
     "name": "stderr",
     "output_type": "stream",
     "text": [
      "Epoch 19/30 - Training: 100%|██████████| 1811/1811 [23:02<00:00,  1.31it/s]\n",
      "Validation: 100%|██████████| 453/453 [02:25<00:00,  3.12it/s]\n"
     ]
    },
    {
     "name": "stdout",
     "output_type": "stream",
     "text": [
      "Epoch 19/30, Train Loss: 0.5054, Train Accuracy: 81.32%, Val Loss: 0.8516, Val Accuracy: 70.72%, Time: 1527.42 sec\n"
     ]
    },
    {
     "name": "stderr",
     "output_type": "stream",
     "text": [
      "Epoch 20/30 - Training: 100%|██████████| 1811/1811 [23:26<00:00,  1.29it/s]\n",
      "Validation: 100%|██████████| 453/453 [02:25<00:00,  3.11it/s]\n"
     ]
    },
    {
     "name": "stdout",
     "output_type": "stream",
     "text": [
      "Epoch 20/30, Train Loss: 0.4757, Train Accuracy: 82.56%, Val Loss: 0.8856, Val Accuracy: 70.86%, Time: 1552.07 sec\n"
     ]
    },
    {
     "name": "stderr",
     "output_type": "stream",
     "text": [
      "Epoch 21/30 - Training: 100%|██████████| 1811/1811 [23:01<00:00,  1.31it/s]\n",
      "Validation: 100%|██████████| 453/453 [02:24<00:00,  3.13it/s]\n"
     ]
    },
    {
     "name": "stdout",
     "output_type": "stream",
     "text": [
      "Epoch 21/30, Train Loss: 0.3376, Train Accuracy: 87.67%, Val Loss: 0.8711, Val Accuracy: 73.77%, Time: 1526.62 sec\n"
     ]
    },
    {
     "name": "stderr",
     "output_type": "stream",
     "text": [
      "Epoch 22/30 - Training: 100%|██████████| 1811/1811 [23:26<00:00,  1.29it/s]\n",
      "Validation: 100%|██████████| 453/453 [02:25<00:00,  3.12it/s]\n"
     ]
    },
    {
     "name": "stdout",
     "output_type": "stream",
     "text": [
      "Epoch 22/30, Train Loss: 0.2842, Train Accuracy: 89.66%, Val Loss: 0.8862, Val Accuracy: 73.90%, Time: 1551.71 sec\n"
     ]
    },
    {
     "name": "stderr",
     "output_type": "stream",
     "text": [
      "Epoch 23/30 - Training: 100%|██████████| 1811/1811 [23:02<00:00,  1.31it/s]\n",
      "Validation: 100%|██████████| 453/453 [02:42<00:00,  2.78it/s]\n"
     ]
    },
    {
     "name": "stdout",
     "output_type": "stream",
     "text": [
      "Epoch 23/30, Train Loss: 0.2673, Train Accuracy: 90.16%, Val Loss: 0.8890, Val Accuracy: 73.91%, Time: 1545.34 sec\n"
     ]
    },
    {
     "name": "stderr",
     "output_type": "stream",
     "text": [
      "Epoch 24/30 - Training: 100%|██████████| 1811/1811 [23:02<00:00,  1.31it/s]\n",
      "Validation: 100%|██████████| 453/453 [02:25<00:00,  3.12it/s]\n"
     ]
    },
    {
     "name": "stdout",
     "output_type": "stream",
     "text": [
      "Epoch 24/30, Train Loss: 0.2453, Train Accuracy: 91.10%, Val Loss: 0.9301, Val Accuracy: 74.05%, Time: 1527.54 sec\n"
     ]
    },
    {
     "name": "stderr",
     "output_type": "stream",
     "text": [
      "Epoch 25/30 - Training: 100%|██████████| 1811/1811 [23:27<00:00,  1.29it/s]\n",
      "Validation: 100%|██████████| 453/453 [02:25<00:00,  3.11it/s]\n"
     ]
    },
    {
     "name": "stdout",
     "output_type": "stream",
     "text": [
      "Epoch 25/30, Train Loss: 0.2347, Train Accuracy: 91.47%, Val Loss: 0.9544, Val Accuracy: 74.24%, Time: 1552.56 sec\n"
     ]
    },
    {
     "name": "stderr",
     "output_type": "stream",
     "text": [
      "Epoch 26/30 - Training: 100%|██████████| 1811/1811 [23:26<00:00,  1.29it/s]\n",
      "Validation: 100%|██████████| 453/453 [02:24<00:00,  3.13it/s]\n"
     ]
    },
    {
     "name": "stdout",
     "output_type": "stream",
     "text": [
      "Epoch 26/30, Train Loss: 0.2216, Train Accuracy: 91.97%, Val Loss: 0.9538, Val Accuracy: 73.72%, Time: 1550.97 sec\n"
     ]
    },
    {
     "name": "stderr",
     "output_type": "stream",
     "text": [
      "Epoch 27/30 - Training: 100%|██████████| 1811/1811 [22:58<00:00,  1.31it/s]\n",
      "Validation: 100%|██████████| 453/453 [02:24<00:00,  3.13it/s]\n"
     ]
    },
    {
     "name": "stdout",
     "output_type": "stream",
     "text": [
      "Epoch 27/30, Train Loss: 0.2075, Train Accuracy: 92.55%, Val Loss: 0.9621, Val Accuracy: 74.01%, Time: 1523.77 sec\n"
     ]
    },
    {
     "name": "stderr",
     "output_type": "stream",
     "text": [
      "Epoch 28/30 - Training: 100%|██████████| 1811/1811 [23:24<00:00,  1.29it/s]\n",
      "Validation: 100%|██████████| 453/453 [02:25<00:00,  3.11it/s]\n"
     ]
    },
    {
     "name": "stdout",
     "output_type": "stream",
     "text": [
      "Epoch 28/30, Train Loss: 0.1993, Train Accuracy: 92.84%, Val Loss: 0.9642, Val Accuracy: 73.76%, Time: 1549.83 sec\n"
     ]
    },
    {
     "name": "stderr",
     "output_type": "stream",
     "text": [
      "Epoch 29/30 - Training: 100%|██████████| 1811/1811 [23:24<00:00,  1.29it/s]\n",
      "Validation: 100%|██████████| 453/453 [02:25<00:00,  3.11it/s]\n"
     ]
    },
    {
     "name": "stdout",
     "output_type": "stream",
     "text": [
      "Epoch 29/30, Train Loss: 0.2008, Train Accuracy: 92.61%, Val Loss: 0.9572, Val Accuracy: 74.35%, Time: 1550.33 sec\n"
     ]
    },
    {
     "name": "stderr",
     "output_type": "stream",
     "text": [
      "Epoch 30/30 - Training: 100%|██████████| 1811/1811 [23:00<00:00,  1.31it/s]\n",
      "Validation: 100%|██████████| 453/453 [02:41<00:00,  2.80it/s]\n"
     ]
    },
    {
     "name": "stdout",
     "output_type": "stream",
     "text": [
      "Epoch 30/30, Train Loss: 0.1952, Train Accuracy: 92.87%, Val Loss: 0.9787, Val Accuracy: 74.09%, Time: 1542.74 sec\n"
     ]
    }
   ],
   "source": [
    "num_epochs = 30\n",
    "train_losses, train_accuracies, val_losses, val_accuracies, epoch_times = train_and_validate(\n",
    "    model, criterion, optimizer, train_loader, val_loader, num_epochs\n",
    ")"
   ]
  },
  {
   "cell_type": "code",
   "execution_count": null,
   "metadata": {},
   "outputs": [],
   "source": []
  }
 ],
 "metadata": {
  "kernelspec": {
   "display_name": "Python 3",
   "language": "python",
   "name": "python3"
  },
  "language_info": {
   "codemirror_mode": {
    "name": "ipython",
    "version": 3
   },
   "file_extension": ".py",
   "mimetype": "text/x-python",
   "name": "python",
   "nbconvert_exporter": "python",
   "pygments_lexer": "ipython3",
   "version": "3.12.5"
  }
 },
 "nbformat": 4,
 "nbformat_minor": 2
}
