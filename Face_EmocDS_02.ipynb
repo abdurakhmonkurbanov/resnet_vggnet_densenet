{
 "cells": [
  {
   "cell_type": "markdown",
   "metadata": {},
   "source": [
    "Kutibxonalar"
   ]
  },
  {
   "cell_type": "code",
   "execution_count": 1,
   "metadata": {},
   "outputs": [],
   "source": [
    "import os\n",
    "import time\n",
    "import torch\n",
    "import torchvision.transforms as transforms\n",
    "from torchvision import datasets, models\n",
    "from torch.utils.data import DataLoader, random_split\n",
    "import torch.nn as nn\n",
    "import torch.optim as optim\n",
    "from tqdm import tqdm\n",
    "import numpy as np\n",
    "import matplotlib.pyplot as plt"
   ]
  },
  {
   "cell_type": "code",
   "execution_count": 23,
   "metadata": {},
   "outputs": [
    {
     "name": "stdout",
     "output_type": "stream",
     "text": [
      "GPU mavjud: NVIDIA GeForce RTX 3060\n",
      "cuda\n"
     ]
    }
   ],
   "source": [
    "# GPU ni tekshirish\n",
    "if torch.cuda.is_available():\n",
    "    device = torch.device(\"cuda\")  # GPU\n",
    "    print(f\"GPU mavjud: {torch.cuda.get_device_name(device)}\")\n",
    "else:\n",
    "    device = torch.device(\"cpu\")  # CPU\n",
    "    print(\"GPU mavjud emas, CPU ishlatiladi.\")\n",
    "\n",
    "torch.cuda.empty_cache()  # Xotiradan bo'shatish\n",
    "device = torch.device('cuda' if torch.cuda.is_available() else 'cpu')\n",
    "print(device)"
   ]
  },
  {
   "cell_type": "code",
   "execution_count": 24,
   "metadata": {},
   "outputs": [
    {
     "name": "stdout",
     "output_type": "stream",
     "text": [
      "Class names: ['anger', 'contempt', 'disgust', 'fear', 'happy', 'neutral', 'sad', 'surprise']\n"
     ]
    }
   ],
   "source": [
    "# Ma'lumotlar to'plamini yuklash va transformatsiyalar\n",
    "data_dir = 'face_emoc_ds'\n",
    "batch_size = 32  # Batch size ni oshirish\n",
    "image_size = 224\n",
    "\n",
    "# Data augmentation va transformatsiyalar\n",
    "transform = transforms.Compose([\n",
    "    transforms.Lambda(lambda img: img if img.mode == 'RGB' else img.convert('RGB')),\n",
    "    transforms.Resize((image_size, image_size)),\n",
    "    transforms.RandomHorizontalFlip(),\n",
    "    transforms.RandomRotation(10),\n",
    "    transforms.ColorJitter(brightness=0.2, contrast=0.2, saturation=0.2, hue=0.1),\n",
    "    transforms.RandomResizedCrop(image_size, scale=(0.8, 1.0)),\n",
    "    transforms.RandomAffine(degrees=0, translate=(0.1, 0.1)),\n",
    "    transforms.RandomPerspective(distortion_scale=0.2, p=0.5),\n",
    "    transforms.ToTensor(), # Tensorga o'zgartirish\n",
    "    transforms.RandomErasing(p=0.7, scale=(0.02, 0.2), ratio=(0.3, 3.3), value=(0, 0, 0)),  # O'chiqlik bloklarini qo'shish\n",
    "    transforms.Normalize(mean=[0.5, 0.5, 0.5], std=[0.5, 0.5, 0.5])\n",
    "])\n",
    "\n",
    "dataset = datasets.ImageFolder(data_dir, transform=transform)\n",
    "train_size = int(0.8 * len(dataset))\n",
    "val_size = len(dataset) - train_size\n",
    "train_dataset, val_dataset = random_split(dataset, [train_size, val_size])\n",
    "\n",
    "train_loader = DataLoader(train_dataset, batch_size=batch_size, shuffle=True)\n",
    "val_loader = DataLoader(val_dataset, batch_size=batch_size, shuffle=False)\n",
    "\n",
    "class_names = dataset.classes\n",
    "print(\"Class names:\", class_names)"
   ]
  },
  {
   "cell_type": "code",
   "execution_count": 25,
   "metadata": {},
   "outputs": [],
   "source": [
    "# Modelni yuklash va sozlash\n",
    "def load_model(model_name, num_classes):\n",
    "    if model_name == 'resnet50':\n",
    "        model = models.resnet50(pretrained=True)\n",
    "        model.fc = nn.Sequential(\n",
    "            nn.Dropout(0.5),  # Dropout qo'shildi\n",
    "            nn.Linear(model.fc.in_features, num_classes)\n",
    "        )\n",
    "    elif model_name == 'densenet121':\n",
    "        model = models.densenet121(pretrained=True)\n",
    "        model.classifier = nn.Sequential(\n",
    "            nn.Dropout(0.5),  # Dropout qo'shildi\n",
    "            nn.Linear(model.classifier.in_features, num_classes)\n",
    "        )\n",
    "    elif model_name == 'vgg19':\n",
    "        model = models.vgg19(pretrained=True)\n",
    "        model.classifier = nn.Sequential(\n",
    "            nn.Linear(25088, 4096),\n",
    "            nn.ReLU(True),\n",
    "            nn.Dropout(0.5),  # Dropout qo'shildi\n",
    "            nn.Linear(4096, 4096),\n",
    "            nn.ReLU(True),\n",
    "            nn.Dropout(0.5),  # Dropout qo'shildi\n",
    "            nn.Linear(4096, num_classes)\n",
    "        )\n",
    "    else:\n",
    "        raise ValueError(\"Model name not recognized. Choose from 'resnet50', 'densenet121', 'vgg19'.\")\n",
    "    \n",
    "    # Butun modelni fine-tune qilish\n",
    "    for param in model.parameters():\n",
    "        param.requires_grad = True\n",
    "    \n",
    "    return model.to(device)\n",
    "\n",
    "#model_name = 'densenet121'  # Modelni tanlang: 'resnet50', 'densenet121', 'vgg19'\n",
    "#model_name = 'resnet50'  # Modelni tanlang: 'resnet50', 'densenet121', 'vgg19'  Ikkinchi training\n",
    "model_name = 'vgg19'  # Modelni tanlang: 'resnet50', 'densenet121', 'vgg19'  \n",
    "model = load_model(model_name, len(class_names))\n"
   ]
  },
  {
   "cell_type": "code",
   "execution_count": 26,
   "metadata": {},
   "outputs": [],
   "source": [
    "# Loss va optimizer\n",
    "criterion = nn.CrossEntropyLoss()\n",
    "optimizer = optim.Adam(model.parameters(), lr=0.0001)  # Learning rate ni oshirish\n",
    "scheduler = torch.optim.lr_scheduler.ReduceLROnPlateau(optimizer, mode='min', factor=0.1, patience=5, verbose=True)\n"
   ]
  },
  {
   "cell_type": "code",
   "execution_count": 27,
   "metadata": {},
   "outputs": [],
   "source": [
    "# Trening va validatsiya funksiyasi\n",
    "def train_and_validate(model, criterion, optimizer, train_loader, val_loader, num_epochs=10):\n",
    "    train_losses, val_losses = [], []\n",
    "    train_accuracies, val_accuracies = [], []\n",
    "    epoch_times = []\n",
    "\n",
    "    # Natijalarni saqlash uchun fayl ochamiz\n",
    "    with open(\"training_results.txt\", \"w\") as f:\n",
    "        f.write(\"Epoch, Train Loss, Train Accuracy, Val Loss, Val Accuracy, Time (sec)\\n\")\n",
    "\n",
    "    for epoch in range(num_epochs):\n",
    "        start_time = time.time()\n",
    "\n",
    "        # O'quv rejimi\n",
    "        model.train()\n",
    "        train_loss, train_correct = 0.0, 0\n",
    "\n",
    "        for inputs, labels in tqdm(train_loader, desc=f\"Epoch {epoch+1}/{num_epochs} - Training\"):\n",
    "            inputs, labels = inputs.to(device), labels.to(device)\n",
    "\n",
    "            optimizer.zero_grad()\n",
    "            outputs = model(inputs)\n",
    "            loss = criterion(outputs, labels)\n",
    "            loss.backward()\n",
    "            optimizer.step()\n",
    "\n",
    "            train_loss += loss.item() * inputs.size(0)\n",
    "            _, preds = torch.max(outputs, 1)\n",
    "            train_correct += torch.sum(preds == labels.data)\n",
    "\n",
    "        epoch_train_loss = train_loss / len(train_loader.dataset)\n",
    "        epoch_train_acc = 100 * train_correct.double() / len(train_loader.dataset)\n",
    "        train_losses.append(epoch_train_loss)\n",
    "        train_accuracies.append(epoch_train_acc)\n",
    "\n",
    "        # Validatsiya rejimi\n",
    "        model.eval()\n",
    "        val_loss, val_correct = 0.0, 0\n",
    "\n",
    "        with torch.no_grad():\n",
    "            for inputs, labels in tqdm(val_loader, desc=\"Validation\"):\n",
    "                inputs, labels = inputs.to(device), labels.to(device)\n",
    "                outputs = model(inputs)\n",
    "                loss = criterion(outputs, labels)\n",
    "\n",
    "                val_loss += loss.item() * inputs.size(0)\n",
    "                _, preds = torch.max(outputs, 1)\n",
    "                val_correct += torch.sum(preds == labels.data)\n",
    "\n",
    "        epoch_val_loss = val_loss / len(val_loader.dataset)\n",
    "        epoch_val_acc = 100 * val_correct.double() / len(val_loader.dataset)\n",
    "        val_losses.append(epoch_val_loss)\n",
    "        val_accuracies.append(epoch_val_acc)\n",
    "\n",
    "        epoch_time = time.time() - start_time\n",
    "        epoch_times.append(epoch_time)\n",
    "\n",
    "        print(f'Epoch {epoch+1}/{num_epochs}, '\n",
    "              f'Train Loss: {epoch_train_loss:.4f}, Train Accuracy: {epoch_train_acc:.2f}%, '\n",
    "              f'Val Loss: {epoch_val_loss:.4f}, Val Accuracy: {epoch_val_acc:.2f}%, '\n",
    "              f'Time: {epoch_time:.2f} sec')\n",
    "\n",
    "        # Natijalarni faylga yozamiz\n",
    "        with open(\"training_results.txt\", \"a\") as f:\n",
    "            f.write(f\"{epoch+1}, {epoch_train_loss:.4f}, {epoch_train_acc:.2f}, \"\n",
    "                    f\"{epoch_val_loss:.4f}, {epoch_val_acc:.2f}, {epoch_time:.2f}\\n\")\n",
    "\n",
    "        # Learning rate ni sozlash\n",
    "        scheduler.step(epoch_val_loss)\n",
    "\n",
    "        # Modelni saqlash\n",
    "        torch.save(model.state_dict(), f'{model_name}_epoch_{epoch+1}.pth')\n",
    "\n",
    "    return train_losses, train_accuracies, val_losses, val_accuracies, epoch_times\n"
   ]
  },
  {
   "cell_type": "markdown",
   "metadata": {},
   "source": [
    "# Trainingni boshlash VGGNet19"
   ]
  },
  {
   "cell_type": "code",
   "execution_count": 28,
   "metadata": {},
   "outputs": [
    {
     "name": "stderr",
     "output_type": "stream",
     "text": [
      "Epoch 1/30 - Training: 100%|██████████| 1811/1811 [40:51<00:00,  1.35s/it]\n",
      "Validation: 100%|██████████| 453/453 [07:25<00:00,  1.02it/s]\n"
     ]
    },
    {
     "name": "stdout",
     "output_type": "stream",
     "text": [
      "Epoch 1/30, Train Loss: 1.2941, Train Accuracy: 51.33%, Val Loss: 1.0546, Val Accuracy: 60.98%, Time: 2896.72 sec\n"
     ]
    },
    {
     "name": "stderr",
     "output_type": "stream",
     "text": [
      "Epoch 2/30 - Training: 100%|██████████| 1811/1811 [26:44<00:00,  1.13it/s]\n",
      "Validation: 100%|██████████| 453/453 [02:57<00:00,  2.55it/s]\n"
     ]
    },
    {
     "name": "stdout",
     "output_type": "stream",
     "text": [
      "Epoch 2/30, Train Loss: 1.0195, Train Accuracy: 62.30%, Val Loss: 1.0103, Val Accuracy: 62.77%, Time: 1782.35 sec\n"
     ]
    },
    {
     "name": "stderr",
     "output_type": "stream",
     "text": [
      "Epoch 3/30 - Training: 100%|██████████| 1811/1811 [19:21<00:00,  1.56it/s]\n",
      "Validation: 100%|██████████| 453/453 [02:06<00:00,  3.59it/s]\n"
     ]
    },
    {
     "name": "stdout",
     "output_type": "stream",
     "text": [
      "Epoch 3/30, Train Loss: 0.9349, Train Accuracy: 65.48%, Val Loss: 0.9403, Val Accuracy: 65.37%, Time: 1287.31 sec\n"
     ]
    },
    {
     "name": "stderr",
     "output_type": "stream",
     "text": [
      "Epoch 4/30 - Training: 100%|██████████| 1811/1811 [17:43<00:00,  1.70it/s]\n",
      "Validation: 100%|██████████| 453/453 [02:07<00:00,  3.56it/s]\n"
     ]
    },
    {
     "name": "stdout",
     "output_type": "stream",
     "text": [
      "Epoch 4/30, Train Loss: 0.8819, Train Accuracy: 67.59%, Val Loss: 0.8798, Val Accuracy: 67.43%, Time: 1191.04 sec\n"
     ]
    },
    {
     "name": "stderr",
     "output_type": "stream",
     "text": [
      "Epoch 5/30 - Training: 100%|██████████| 1811/1811 [17:45<00:00,  1.70it/s]\n",
      "Validation: 100%|██████████| 453/453 [02:07<00:00,  3.55it/s]\n"
     ]
    },
    {
     "name": "stdout",
     "output_type": "stream",
     "text": [
      "Epoch 5/30, Train Loss: 0.8527, Train Accuracy: 68.65%, Val Loss: 0.8624, Val Accuracy: 68.70%, Time: 1192.70 sec\n"
     ]
    },
    {
     "name": "stderr",
     "output_type": "stream",
     "text": [
      "Epoch 6/30 - Training: 100%|██████████| 1811/1811 [17:44<00:00,  1.70it/s]\n",
      "Validation: 100%|██████████| 453/453 [02:06<00:00,  3.59it/s]\n"
     ]
    },
    {
     "name": "stdout",
     "output_type": "stream",
     "text": [
      "Epoch 6/30, Train Loss: 0.8141, Train Accuracy: 70.12%, Val Loss: 0.8755, Val Accuracy: 67.94%, Time: 1190.50 sec\n"
     ]
    },
    {
     "name": "stderr",
     "output_type": "stream",
     "text": [
      "Epoch 7/30 - Training: 100%|██████████| 1811/1811 [22:15<00:00,  1.36it/s]\n",
      "Validation: 100%|██████████| 453/453 [05:29<00:00,  1.38it/s]\n"
     ]
    },
    {
     "name": "stdout",
     "output_type": "stream",
     "text": [
      "Epoch 7/30, Train Loss: 0.7927, Train Accuracy: 70.69%, Val Loss: 0.8522, Val Accuracy: 68.95%, Time: 1664.91 sec\n"
     ]
    },
    {
     "name": "stderr",
     "output_type": "stream",
     "text": [
      "Epoch 8/30 - Training: 100%|██████████| 1811/1811 [31:40<00:00,  1.05s/it]\n",
      "Validation: 100%|██████████| 453/453 [05:08<00:00,  1.47it/s]\n"
     ]
    },
    {
     "name": "stdout",
     "output_type": "stream",
     "text": [
      "Epoch 8/30, Train Loss: 0.7667, Train Accuracy: 71.54%, Val Loss: 0.8383, Val Accuracy: 68.84%, Time: 2208.56 sec\n"
     ]
    },
    {
     "name": "stderr",
     "output_type": "stream",
     "text": [
      "Epoch 9/30 - Training: 100%|██████████| 1811/1811 [22:43<00:00,  1.33it/s]\n",
      "Validation: 100%|██████████| 453/453 [03:17<00:00,  2.29it/s]\n"
     ]
    },
    {
     "name": "stdout",
     "output_type": "stream",
     "text": [
      "Epoch 9/30, Train Loss: 0.7501, Train Accuracy: 72.30%, Val Loss: 0.8500, Val Accuracy: 69.58%, Time: 1561.19 sec\n"
     ]
    },
    {
     "name": "stderr",
     "output_type": "stream",
     "text": [
      "Epoch 10/30 - Training: 100%|██████████| 1811/1811 [22:15<00:00,  1.36it/s]\n",
      "Validation: 100%|██████████| 453/453 [03:12<00:00,  2.36it/s]\n"
     ]
    },
    {
     "name": "stdout",
     "output_type": "stream",
     "text": [
      "Epoch 10/30, Train Loss: 0.7252, Train Accuracy: 73.17%, Val Loss: 0.7858, Val Accuracy: 71.44%, Time: 1527.66 sec\n"
     ]
    },
    {
     "name": "stderr",
     "output_type": "stream",
     "text": [
      "Epoch 11/30 - Training: 100%|██████████| 1811/1811 [20:20<00:00,  1.48it/s]\n",
      "Validation: 100%|██████████| 453/453 [03:18<00:00,  2.28it/s]\n"
     ]
    },
    {
     "name": "stdout",
     "output_type": "stream",
     "text": [
      "Epoch 11/30, Train Loss: 0.7080, Train Accuracy: 73.89%, Val Loss: 0.7899, Val Accuracy: 70.65%, Time: 1418.86 sec\n"
     ]
    },
    {
     "name": "stderr",
     "output_type": "stream",
     "text": [
      "Epoch 12/30 - Training: 100%|██████████| 1811/1811 [22:35<00:00,  1.34it/s]\n",
      "Validation: 100%|██████████| 453/453 [03:20<00:00,  2.26it/s]\n"
     ]
    },
    {
     "name": "stdout",
     "output_type": "stream",
     "text": [
      "Epoch 12/30, Train Loss: 0.6921, Train Accuracy: 74.31%, Val Loss: 0.7859, Val Accuracy: 71.53%, Time: 1555.45 sec\n"
     ]
    },
    {
     "name": "stderr",
     "output_type": "stream",
     "text": [
      "Epoch 13/30 - Training: 100%|██████████| 1811/1811 [22:44<00:00,  1.33it/s]\n",
      "Validation: 100%|██████████| 453/453 [03:11<00:00,  2.37it/s]\n"
     ]
    },
    {
     "name": "stdout",
     "output_type": "stream",
     "text": [
      "Epoch 13/30, Train Loss: 0.6754, Train Accuracy: 75.30%, Val Loss: 0.7926, Val Accuracy: 71.28%, Time: 1555.51 sec\n"
     ]
    },
    {
     "name": "stderr",
     "output_type": "stream",
     "text": [
      "Epoch 14/30 - Training: 100%|██████████| 1811/1811 [22:39<00:00,  1.33it/s]\n",
      "Validation: 100%|██████████| 453/453 [02:54<00:00,  2.59it/s]\n"
     ]
    },
    {
     "name": "stdout",
     "output_type": "stream",
     "text": [
      "Epoch 14/30, Train Loss: 0.6604, Train Accuracy: 75.59%, Val Loss: 0.7874, Val Accuracy: 71.96%, Time: 1534.25 sec\n"
     ]
    },
    {
     "name": "stderr",
     "output_type": "stream",
     "text": [
      "Epoch 15/30 - Training: 100%|██████████| 1811/1811 [17:47<00:00,  1.70it/s]\n",
      "Validation: 100%|██████████| 453/453 [02:07<00:00,  3.55it/s]\n"
     ]
    },
    {
     "name": "stdout",
     "output_type": "stream",
     "text": [
      "Epoch 15/30, Train Loss: 0.6481, Train Accuracy: 76.07%, Val Loss: 0.7849, Val Accuracy: 71.99%, Time: 1195.19 sec\n"
     ]
    },
    {
     "name": "stderr",
     "output_type": "stream",
     "text": [
      "Epoch 16/30 - Training: 100%|██████████| 1811/1811 [17:42<00:00,  1.70it/s]\n",
      "Validation: 100%|██████████| 453/453 [02:06<00:00,  3.58it/s]\n"
     ]
    },
    {
     "name": "stdout",
     "output_type": "stream",
     "text": [
      "Epoch 16/30, Train Loss: 0.6298, Train Accuracy: 76.83%, Val Loss: 0.7912, Val Accuracy: 72.46%, Time: 1189.15 sec\n"
     ]
    },
    {
     "name": "stderr",
     "output_type": "stream",
     "text": [
      "Epoch 17/30 - Training: 100%|██████████| 1811/1811 [17:42<00:00,  1.71it/s]\n",
      "Validation: 100%|██████████| 453/453 [02:06<00:00,  3.57it/s]\n"
     ]
    },
    {
     "name": "stdout",
     "output_type": "stream",
     "text": [
      "Epoch 17/30, Train Loss: 0.6211, Train Accuracy: 77.25%, Val Loss: 0.7793, Val Accuracy: 72.45%, Time: 1188.99 sec\n"
     ]
    },
    {
     "name": "stderr",
     "output_type": "stream",
     "text": [
      "Epoch 18/30 - Training: 100%|██████████| 1811/1811 [17:43<00:00,  1.70it/s]\n",
      "Validation: 100%|██████████| 453/453 [02:06<00:00,  3.57it/s]\n"
     ]
    },
    {
     "name": "stdout",
     "output_type": "stream",
     "text": [
      "Epoch 18/30, Train Loss: 0.6096, Train Accuracy: 77.57%, Val Loss: 0.7695, Val Accuracy: 71.86%, Time: 1190.68 sec\n"
     ]
    },
    {
     "name": "stderr",
     "output_type": "stream",
     "text": [
      "Epoch 19/30 - Training: 100%|██████████| 1811/1811 [17:42<00:00,  1.70it/s]\n",
      "Validation: 100%|██████████| 453/453 [02:07<00:00,  3.55it/s]\n"
     ]
    },
    {
     "name": "stdout",
     "output_type": "stream",
     "text": [
      "Epoch 19/30, Train Loss: 0.5933, Train Accuracy: 78.28%, Val Loss: 0.8021, Val Accuracy: 71.84%, Time: 1189.94 sec\n"
     ]
    },
    {
     "name": "stderr",
     "output_type": "stream",
     "text": [
      "Epoch 20/30 - Training: 100%|██████████| 1811/1811 [17:40<00:00,  1.71it/s]\n",
      "Validation: 100%|██████████| 453/453 [02:06<00:00,  3.59it/s]\n"
     ]
    },
    {
     "name": "stdout",
     "output_type": "stream",
     "text": [
      "Epoch 20/30, Train Loss: 0.5833, Train Accuracy: 78.51%, Val Loss: 0.7830, Val Accuracy: 72.09%, Time: 1186.18 sec\n"
     ]
    },
    {
     "name": "stderr",
     "output_type": "stream",
     "text": [
      "Epoch 21/30 - Training: 100%|██████████| 1811/1811 [17:42<00:00,  1.70it/s]\n",
      "Validation: 100%|██████████| 453/453 [02:06<00:00,  3.59it/s]\n"
     ]
    },
    {
     "name": "stdout",
     "output_type": "stream",
     "text": [
      "Epoch 21/30, Train Loss: 0.5732, Train Accuracy: 78.96%, Val Loss: 0.7599, Val Accuracy: 73.24%, Time: 1189.24 sec\n"
     ]
    },
    {
     "name": "stderr",
     "output_type": "stream",
     "text": [
      "Epoch 22/30 - Training: 100%|██████████| 1811/1811 [17:42<00:00,  1.70it/s]\n",
      "Validation: 100%|██████████| 453/453 [02:05<00:00,  3.60it/s]\n"
     ]
    },
    {
     "name": "stdout",
     "output_type": "stream",
     "text": [
      "Epoch 22/30, Train Loss: 0.5648, Train Accuracy: 79.12%, Val Loss: 0.8046, Val Accuracy: 73.07%, Time: 1188.21 sec\n"
     ]
    },
    {
     "name": "stderr",
     "output_type": "stream",
     "text": [
      "Epoch 23/30 - Training: 100%|██████████| 1811/1811 [17:42<00:00,  1.70it/s]\n",
      "Validation: 100%|██████████| 453/453 [02:07<00:00,  3.56it/s]\n"
     ]
    },
    {
     "name": "stdout",
     "output_type": "stream",
     "text": [
      "Epoch 23/30, Train Loss: 0.5491, Train Accuracy: 79.91%, Val Loss: 0.8212, Val Accuracy: 72.24%, Time: 1189.90 sec\n"
     ]
    },
    {
     "name": "stderr",
     "output_type": "stream",
     "text": [
      "Epoch 24/30 - Training: 100%|██████████| 1811/1811 [17:44<00:00,  1.70it/s]\n",
      "Validation: 100%|██████████| 453/453 [02:06<00:00,  3.59it/s]\n"
     ]
    },
    {
     "name": "stdout",
     "output_type": "stream",
     "text": [
      "Epoch 24/30, Train Loss: 0.5461, Train Accuracy: 79.87%, Val Loss: 0.7849, Val Accuracy: 72.31%, Time: 1190.36 sec\n"
     ]
    },
    {
     "name": "stderr",
     "output_type": "stream",
     "text": [
      "Epoch 25/30 - Training: 100%|██████████| 1811/1811 [17:43<00:00,  1.70it/s]\n",
      "Validation: 100%|██████████| 453/453 [02:06<00:00,  3.57it/s]\n"
     ]
    },
    {
     "name": "stdout",
     "output_type": "stream",
     "text": [
      "Epoch 25/30, Train Loss: 0.5336, Train Accuracy: 80.55%, Val Loss: 0.7903, Val Accuracy: 72.78%, Time: 1190.52 sec\n"
     ]
    },
    {
     "name": "stderr",
     "output_type": "stream",
     "text": [
      "Epoch 26/30 - Training: 100%|██████████| 1811/1811 [17:42<00:00,  1.70it/s]\n",
      "Validation: 100%|██████████| 453/453 [02:06<00:00,  3.58it/s]\n"
     ]
    },
    {
     "name": "stdout",
     "output_type": "stream",
     "text": [
      "Epoch 26/30, Train Loss: 0.5219, Train Accuracy: 80.72%, Val Loss: 0.7752, Val Accuracy: 73.01%, Time: 1189.31 sec\n"
     ]
    },
    {
     "name": "stderr",
     "output_type": "stream",
     "text": [
      "Epoch 27/30 - Training: 100%|██████████| 1811/1811 [17:42<00:00,  1.70it/s]\n",
      "Validation: 100%|██████████| 453/453 [02:07<00:00,  3.55it/s]\n"
     ]
    },
    {
     "name": "stdout",
     "output_type": "stream",
     "text": [
      "Epoch 27/30, Train Loss: 0.5164, Train Accuracy: 81.22%, Val Loss: 0.7896, Val Accuracy: 72.93%, Time: 1190.65 sec\n"
     ]
    },
    {
     "name": "stderr",
     "output_type": "stream",
     "text": [
      "Epoch 28/30 - Training: 100%|██████████| 1811/1811 [17:43<00:00,  1.70it/s]\n",
      "Validation: 100%|██████████| 453/453 [02:07<00:00,  3.55it/s]\n"
     ]
    },
    {
     "name": "stdout",
     "output_type": "stream",
     "text": [
      "Epoch 28/30, Train Loss: 0.4175, Train Accuracy: 84.64%, Val Loss: 0.7686, Val Accuracy: 74.56%, Time: 1191.31 sec\n"
     ]
    },
    {
     "name": "stderr",
     "output_type": "stream",
     "text": [
      "Epoch 29/30 - Training: 100%|██████████| 1811/1811 [17:43<00:00,  1.70it/s]\n",
      "Validation: 100%|██████████| 453/453 [02:06<00:00,  3.58it/s]\n"
     ]
    },
    {
     "name": "stdout",
     "output_type": "stream",
     "text": [
      "Epoch 29/30, Train Loss: 0.3752, Train Accuracy: 86.20%, Val Loss: 0.7805, Val Accuracy: 74.61%, Time: 1189.65 sec\n"
     ]
    },
    {
     "name": "stderr",
     "output_type": "stream",
     "text": [
      "Epoch 30/30 - Training: 100%|██████████| 1811/1811 [17:42<00:00,  1.70it/s]\n",
      "Validation: 100%|██████████| 453/453 [02:06<00:00,  3.57it/s]\n"
     ]
    },
    {
     "name": "stdout",
     "output_type": "stream",
     "text": [
      "Epoch 30/30, Train Loss: 0.3618, Train Accuracy: 86.67%, Val Loss: 0.8027, Val Accuracy: 74.50%, Time: 1189.08 sec\n"
     ]
    }
   ],
   "source": [
    "# Treningni boshlash VGG Net\n",
    "num_epochs = 30\n",
    "train_losses, train_accuracies, val_losses, val_accuracies, epoch_times = train_and_validate(\n",
    "    model, criterion, optimizer, train_loader, val_loader, num_epochs\n",
    ")"
   ]
  },
  {
   "cell_type": "markdown",
   "metadata": {},
   "source": [
    "# Treningni boshlash Resnet"
   ]
  },
  {
   "cell_type": "code",
   "execution_count": 9,
   "metadata": {},
   "outputs": [
    {
     "name": "stderr",
     "output_type": "stream",
     "text": [
      "Epoch 1/30 - Training: 100%|██████████| 3621/3621 [35:47<00:00,  1.69it/s]\n",
      "Validation: 100%|██████████| 906/906 [07:18<00:00,  2.07it/s]\n"
     ]
    },
    {
     "name": "stdout",
     "output_type": "stream",
     "text": [
      "Epoch 1/30, Train Loss: 1.2162, Train Accuracy: 54.99%, Val Loss: 0.9787, Val Accuracy: 64.23%, Time: 2585.65 sec\n"
     ]
    },
    {
     "name": "stderr",
     "output_type": "stream",
     "text": [
      "Epoch 2/30 - Training: 100%|██████████| 3621/3621 [23:58<00:00,  2.52it/s]\n",
      "Validation: 100%|██████████| 906/906 [03:12<00:00,  4.71it/s]\n"
     ]
    },
    {
     "name": "stdout",
     "output_type": "stream",
     "text": [
      "Epoch 2/30, Train Loss: 1.0093, Train Accuracy: 62.83%, Val Loss: 0.8974, Val Accuracy: 66.42%, Time: 1630.34 sec\n"
     ]
    },
    {
     "name": "stderr",
     "output_type": "stream",
     "text": [
      "Epoch 3/30 - Training: 100%|██████████| 3621/3621 [23:18<00:00,  2.59it/s]\n",
      "Validation: 100%|██████████| 906/906 [03:12<00:00,  4.71it/s]\n"
     ]
    },
    {
     "name": "stdout",
     "output_type": "stream",
     "text": [
      "Epoch 3/30, Train Loss: 0.9356, Train Accuracy: 65.76%, Val Loss: 0.8761, Val Accuracy: 67.85%, Time: 1590.62 sec\n"
     ]
    },
    {
     "name": "stderr",
     "output_type": "stream",
     "text": [
      "Epoch 4/30 - Training: 100%|██████████| 3621/3621 [23:17<00:00,  2.59it/s]\n",
      "Validation: 100%|██████████| 906/906 [03:22<00:00,  4.48it/s]\n"
     ]
    },
    {
     "name": "stdout",
     "output_type": "stream",
     "text": [
      "Epoch 4/30, Train Loss: 0.8840, Train Accuracy: 67.43%, Val Loss: 0.8270, Val Accuracy: 69.71%, Time: 1599.77 sec\n"
     ]
    },
    {
     "name": "stderr",
     "output_type": "stream",
     "text": [
      "Epoch 5/30 - Training: 100%|██████████| 3621/3621 [25:54<00:00,  2.33it/s]\n",
      "Validation: 100%|██████████| 906/906 [03:40<00:00,  4.10it/s]\n"
     ]
    },
    {
     "name": "stdout",
     "output_type": "stream",
     "text": [
      "Epoch 5/30, Train Loss: 0.8477, Train Accuracy: 68.78%, Val Loss: 0.8624, Val Accuracy: 67.96%, Time: 1775.70 sec\n"
     ]
    },
    {
     "name": "stderr",
     "output_type": "stream",
     "text": [
      "Epoch 6/30 - Training: 100%|██████████| 3621/3621 [23:19<00:00,  2.59it/s]\n",
      "Validation: 100%|██████████| 906/906 [03:12<00:00,  4.70it/s]\n"
     ]
    },
    {
     "name": "stdout",
     "output_type": "stream",
     "text": [
      "Epoch 6/30, Train Loss: 0.8178, Train Accuracy: 69.95%, Val Loss: 0.8058, Val Accuracy: 70.52%, Time: 1592.06 sec\n"
     ]
    },
    {
     "name": "stderr",
     "output_type": "stream",
     "text": [
      "Epoch 7/30 - Training: 100%|██████████| 3621/3621 [23:17<00:00,  2.59it/s]\n",
      "Validation: 100%|██████████| 906/906 [03:13<00:00,  4.67it/s]\n"
     ]
    },
    {
     "name": "stdout",
     "output_type": "stream",
     "text": [
      "Epoch 7/30, Train Loss: 0.7933, Train Accuracy: 70.57%, Val Loss: 0.7863, Val Accuracy: 71.04%, Time: 1591.45 sec\n"
     ]
    },
    {
     "name": "stderr",
     "output_type": "stream",
     "text": [
      "Epoch 8/30 - Training: 100%|██████████| 3621/3621 [23:19<00:00,  2.59it/s]\n",
      "Validation: 100%|██████████| 906/906 [03:12<00:00,  4.69it/s]\n"
     ]
    },
    {
     "name": "stdout",
     "output_type": "stream",
     "text": [
      "Epoch 8/30, Train Loss: 0.7726, Train Accuracy: 71.56%, Val Loss: 0.7641, Val Accuracy: 71.55%, Time: 1592.65 sec\n"
     ]
    },
    {
     "name": "stderr",
     "output_type": "stream",
     "text": [
      "Epoch 9/30 - Training: 100%|██████████| 3621/3621 [23:19<00:00,  2.59it/s]\n",
      "Validation: 100%|██████████| 906/906 [03:12<00:00,  4.71it/s]\n"
     ]
    },
    {
     "name": "stdout",
     "output_type": "stream",
     "text": [
      "Epoch 9/30, Train Loss: 0.7547, Train Accuracy: 72.37%, Val Loss: 0.7689, Val Accuracy: 71.68%, Time: 1592.40 sec\n"
     ]
    },
    {
     "name": "stderr",
     "output_type": "stream",
     "text": [
      "Epoch 10/30 - Training: 100%|██████████| 3621/3621 [23:19<00:00,  2.59it/s]\n",
      "Validation: 100%|██████████| 906/906 [03:13<00:00,  4.69it/s]\n"
     ]
    },
    {
     "name": "stdout",
     "output_type": "stream",
     "text": [
      "Epoch 10/30, Train Loss: 0.7350, Train Accuracy: 72.92%, Val Loss: 0.7660, Val Accuracy: 71.36%, Time: 1592.24 sec\n"
     ]
    },
    {
     "name": "stderr",
     "output_type": "stream",
     "text": [
      "Epoch 11/30 - Training: 100%|██████████| 3621/3621 [13:43<00:00,  4.40it/s]\n",
      "Validation: 100%|██████████| 906/906 [02:20<00:00,  6.47it/s]\n"
     ]
    },
    {
     "name": "stdout",
     "output_type": "stream",
     "text": [
      "Epoch 11/30, Train Loss: 0.7190, Train Accuracy: 73.49%, Val Loss: 0.7640, Val Accuracy: 71.90%, Time: 963.08 sec\n"
     ]
    },
    {
     "name": "stderr",
     "output_type": "stream",
     "text": [
      "Epoch 12/30 - Training: 100%|██████████| 3621/3621 [22:29<00:00,  2.68it/s]\n",
      "Validation: 100%|██████████| 906/906 [01:45<00:00,  8.61it/s]\n"
     ]
    },
    {
     "name": "stdout",
     "output_type": "stream",
     "text": [
      "Epoch 12/30, Train Loss: 0.7045, Train Accuracy: 74.00%, Val Loss: 0.7630, Val Accuracy: 72.11%, Time: 1454.44 sec\n"
     ]
    },
    {
     "name": "stderr",
     "output_type": "stream",
     "text": [
      "Epoch 13/30 - Training: 100%|██████████| 3621/3621 [20:29<00:00,  2.95it/s]\n",
      "Validation: 100%|██████████| 906/906 [03:13<00:00,  4.69it/s]\n"
     ]
    },
    {
     "name": "stdout",
     "output_type": "stream",
     "text": [
      "Epoch 13/30, Train Loss: 0.6903, Train Accuracy: 74.62%, Val Loss: 0.7381, Val Accuracy: 72.59%, Time: 1422.60 sec\n"
     ]
    },
    {
     "name": "stderr",
     "output_type": "stream",
     "text": [
      "Epoch 14/30 - Training: 100%|██████████| 3621/3621 [23:16<00:00,  2.59it/s]\n",
      "Validation: 100%|██████████| 906/906 [03:12<00:00,  4.70it/s]\n"
     ]
    },
    {
     "name": "stdout",
     "output_type": "stream",
     "text": [
      "Epoch 14/30, Train Loss: 0.6751, Train Accuracy: 75.37%, Val Loss: 0.7521, Val Accuracy: 72.26%, Time: 1589.38 sec\n"
     ]
    },
    {
     "name": "stderr",
     "output_type": "stream",
     "text": [
      "Epoch 15/30 - Training: 100%|██████████| 3621/3621 [23:16<00:00,  2.59it/s]\n",
      "Validation: 100%|██████████| 906/906 [03:13<00:00,  4.69it/s]\n"
     ]
    },
    {
     "name": "stdout",
     "output_type": "stream",
     "text": [
      "Epoch 15/30, Train Loss: 0.6620, Train Accuracy: 75.56%, Val Loss: 0.7532, Val Accuracy: 72.39%, Time: 1589.75 sec\n"
     ]
    },
    {
     "name": "stderr",
     "output_type": "stream",
     "text": [
      "Epoch 16/30 - Training: 100%|██████████| 3621/3621 [23:17<00:00,  2.59it/s]\n",
      "Validation: 100%|██████████| 906/906 [03:13<00:00,  4.69it/s]\n"
     ]
    },
    {
     "name": "stdout",
     "output_type": "stream",
     "text": [
      "Epoch 16/30, Train Loss: 0.6488, Train Accuracy: 75.95%, Val Loss: 0.7346, Val Accuracy: 73.15%, Time: 1590.72 sec\n"
     ]
    },
    {
     "name": "stderr",
     "output_type": "stream",
     "text": [
      "Epoch 17/30 - Training: 100%|██████████| 3621/3621 [23:17<00:00,  2.59it/s]\n",
      "Validation: 100%|██████████| 906/906 [03:11<00:00,  4.72it/s]\n"
     ]
    },
    {
     "name": "stdout",
     "output_type": "stream",
     "text": [
      "Epoch 17/30, Train Loss: 0.6371, Train Accuracy: 76.45%, Val Loss: 0.7342, Val Accuracy: 72.86%, Time: 1589.66 sec\n"
     ]
    },
    {
     "name": "stderr",
     "output_type": "stream",
     "text": [
      "Epoch 18/30 - Training: 100%|██████████| 3621/3621 [23:17<00:00,  2.59it/s]\n",
      "Validation: 100%|██████████| 906/906 [01:44<00:00,  8.64it/s]\n"
     ]
    },
    {
     "name": "stdout",
     "output_type": "stream",
     "text": [
      "Epoch 18/30, Train Loss: 0.6196, Train Accuracy: 77.09%, Val Loss: 0.7338, Val Accuracy: 73.41%, Time: 1502.83 sec\n"
     ]
    },
    {
     "name": "stderr",
     "output_type": "stream",
     "text": [
      "Epoch 19/30 - Training: 100%|██████████| 3621/3621 [15:17<00:00,  3.95it/s]\n",
      "Validation: 100%|██████████| 906/906 [02:32<00:00,  5.93it/s]\n"
     ]
    },
    {
     "name": "stdout",
     "output_type": "stream",
     "text": [
      "Epoch 19/30, Train Loss: 0.6094, Train Accuracy: 77.56%, Val Loss: 0.7287, Val Accuracy: 73.03%, Time: 1070.28 sec\n"
     ]
    },
    {
     "name": "stderr",
     "output_type": "stream",
     "text": [
      "Epoch 20/30 - Training: 100%|██████████| 3621/3621 [15:19<00:00,  3.94it/s]\n",
      "Validation: 100%|██████████| 906/906 [02:42<00:00,  5.59it/s]\n"
     ]
    },
    {
     "name": "stdout",
     "output_type": "stream",
     "text": [
      "Epoch 20/30, Train Loss: 0.6009, Train Accuracy: 77.80%, Val Loss: 0.7413, Val Accuracy: 73.73%, Time: 1081.18 sec\n"
     ]
    },
    {
     "name": "stderr",
     "output_type": "stream",
     "text": [
      "Epoch 21/30 - Training: 100%|██████████| 3621/3621 [16:21<00:00,  3.69it/s]\n",
      "Validation: 100%|██████████| 906/906 [03:22<00:00,  4.48it/s]\n"
     ]
    },
    {
     "name": "stdout",
     "output_type": "stream",
     "text": [
      "Epoch 21/30, Train Loss: 0.5890, Train Accuracy: 78.31%, Val Loss: 0.7483, Val Accuracy: 73.42%, Time: 1183.33 sec\n"
     ]
    },
    {
     "name": "stderr",
     "output_type": "stream",
     "text": [
      "Epoch 22/30 - Training: 100%|██████████| 3621/3621 [16:32<00:00,  3.65it/s]\n",
      "Validation: 100%|██████████| 906/906 [01:59<00:00,  7.59it/s]\n"
     ]
    },
    {
     "name": "stdout",
     "output_type": "stream",
     "text": [
      "Epoch 22/30, Train Loss: 0.5795, Train Accuracy: 78.62%, Val Loss: 0.7324, Val Accuracy: 73.67%, Time: 1111.90 sec\n"
     ]
    },
    {
     "name": "stderr",
     "output_type": "stream",
     "text": [
      "Epoch 23/30 - Training: 100%|██████████| 3621/3621 [21:55<00:00,  2.75it/s]\n",
      "Validation: 100%|██████████| 906/906 [03:12<00:00,  4.70it/s]\n"
     ]
    },
    {
     "name": "stdout",
     "output_type": "stream",
     "text": [
      "Epoch 23/30, Train Loss: 0.5615, Train Accuracy: 79.25%, Val Loss: 0.7126, Val Accuracy: 74.20%, Time: 1507.94 sec\n"
     ]
    },
    {
     "name": "stderr",
     "output_type": "stream",
     "text": [
      "Epoch 24/30 - Training: 100%|██████████| 3621/3621 [23:16<00:00,  2.59it/s]\n",
      "Validation: 100%|██████████| 906/906 [03:12<00:00,  4.71it/s]\n"
     ]
    },
    {
     "name": "stdout",
     "output_type": "stream",
     "text": [
      "Epoch 24/30, Train Loss: 0.5530, Train Accuracy: 79.68%, Val Loss: 0.7785, Val Accuracy: 72.49%, Time: 1588.60 sec\n"
     ]
    },
    {
     "name": "stderr",
     "output_type": "stream",
     "text": [
      "Epoch 25/30 - Training: 100%|██████████| 3621/3621 [22:01<00:00,  2.74it/s]\n",
      "Validation: 100%|██████████| 906/906 [01:45<00:00,  8.61it/s]\n"
     ]
    },
    {
     "name": "stdout",
     "output_type": "stream",
     "text": [
      "Epoch 25/30, Train Loss: 0.5458, Train Accuracy: 79.88%, Val Loss: 0.7314, Val Accuracy: 73.97%, Time: 1426.50 sec\n"
     ]
    },
    {
     "name": "stderr",
     "output_type": "stream",
     "text": [
      "Epoch 26/30 - Training: 100%|██████████| 3621/3621 [16:27<00:00,  3.67it/s]\n",
      "Validation: 100%|██████████| 906/906 [03:15<00:00,  4.63it/s]\n"
     ]
    },
    {
     "name": "stdout",
     "output_type": "stream",
     "text": [
      "Epoch 26/30, Train Loss: 0.5362, Train Accuracy: 80.06%, Val Loss: 0.7435, Val Accuracy: 73.40%, Time: 1183.52 sec\n"
     ]
    },
    {
     "name": "stderr",
     "output_type": "stream",
     "text": [
      "Epoch 27/30 - Training: 100%|██████████| 3621/3621 [23:29<00:00,  2.57it/s]\n",
      "Validation: 100%|██████████| 906/906 [03:15<00:00,  4.64it/s]\n"
     ]
    },
    {
     "name": "stdout",
     "output_type": "stream",
     "text": [
      "Epoch 27/30, Train Loss: 0.5261, Train Accuracy: 80.65%, Val Loss: 0.7398, Val Accuracy: 73.87%, Time: 1604.22 sec\n"
     ]
    },
    {
     "name": "stderr",
     "output_type": "stream",
     "text": [
      "Epoch 28/30 - Training: 100%|██████████| 3621/3621 [20:38<00:00,  2.92it/s]\n",
      "Validation: 100%|██████████| 906/906 [02:43<00:00,  5.55it/s]\n"
     ]
    },
    {
     "name": "stdout",
     "output_type": "stream",
     "text": [
      "Epoch 28/30, Train Loss: 0.5184, Train Accuracy: 81.06%, Val Loss: 0.7448, Val Accuracy: 73.89%, Time: 1401.32 sec\n"
     ]
    },
    {
     "name": "stderr",
     "output_type": "stream",
     "text": [
      "Epoch 29/30 - Training: 100%|██████████| 3621/3621 [15:34<00:00,  3.88it/s]\n",
      "Validation: 100%|██████████| 906/906 [04:37<00:00,  3.27it/s]\n"
     ]
    },
    {
     "name": "stdout",
     "output_type": "stream",
     "text": [
      "Epoch 29/30, Train Loss: 0.5091, Train Accuracy: 81.24%, Val Loss: 0.7519, Val Accuracy: 74.22%, Time: 1211.81 sec\n"
     ]
    },
    {
     "name": "stderr",
     "output_type": "stream",
     "text": [
      "Epoch 30/30 - Training: 100%|██████████| 3621/3621 [13:11<00:00,  4.58it/s]\n",
      "Validation: 100%|██████████| 906/906 [01:44<00:00,  8.63it/s]"
     ]
    },
    {
     "name": "stdout",
     "output_type": "stream",
     "text": [
      "Epoch 30/30, Train Loss: 0.4147, Train Accuracy: 84.74%, Val Loss: 0.7135, Val Accuracy: 75.92%, Time: 896.03 sec\n"
     ]
    },
    {
     "name": "stderr",
     "output_type": "stream",
     "text": [
      "\n"
     ]
    }
   ],
   "source": [
    "# Treningni boshlash Resnet\n",
    "num_epochs = 30\n",
    "train_losses, train_accuracies, val_losses, val_accuracies, epoch_times = train_and_validate(\n",
    "    model, criterion, optimizer, train_loader, val_loader, num_epochs\n",
    ")"
   ]
  },
  {
   "cell_type": "markdown",
   "metadata": {},
   "source": [
    "# Treningni boshlash DenseNet121"
   ]
  },
  {
   "cell_type": "code",
   "execution_count": 16,
   "metadata": {},
   "outputs": [
    {
     "name": "stderr",
     "output_type": "stream",
     "text": [
      "Epoch 1/30 - Training: 100%|██████████| 1811/1811 [28:57<00:00,  1.04it/s]\n",
      "Validation: 100%|██████████| 453/453 [06:44<00:00,  1.12it/s]\n"
     ]
    },
    {
     "name": "stdout",
     "output_type": "stream",
     "text": [
      "Epoch 1/30, Train Loss: 1.2021, Train Accuracy: 55.37%, Val Loss: 0.9484, Val Accuracy: 65.23%, Time: 2141.73 sec\n"
     ]
    },
    {
     "name": "stderr",
     "output_type": "stream",
     "text": [
      "Epoch 2/30 - Training: 100%|██████████| 1811/1811 [12:06<00:00,  2.49it/s]\n",
      "Validation: 100%|██████████| 453/453 [01:38<00:00,  4.59it/s]\n"
     ]
    },
    {
     "name": "stdout",
     "output_type": "stream",
     "text": [
      "Epoch 2/30, Train Loss: 0.9415, Train Accuracy: 65.25%, Val Loss: 0.8502, Val Accuracy: 68.23%, Time: 825.64 sec\n"
     ]
    },
    {
     "name": "stderr",
     "output_type": "stream",
     "text": [
      "Epoch 3/30 - Training: 100%|██████████| 1811/1811 [13:55<00:00,  2.17it/s]\n",
      "Validation: 100%|██████████| 453/453 [02:51<00:00,  2.64it/s]\n"
     ]
    },
    {
     "name": "stdout",
     "output_type": "stream",
     "text": [
      "Epoch 3/30, Train Loss: 0.8700, Train Accuracy: 67.99%, Val Loss: 0.8301, Val Accuracy: 69.15%, Time: 1006.69 sec\n"
     ]
    },
    {
     "name": "stderr",
     "output_type": "stream",
     "text": [
      "Epoch 4/30 - Training: 100%|██████████| 1811/1811 [13:27<00:00,  2.24it/s]\n",
      "Validation: 100%|██████████| 453/453 [01:39<00:00,  4.56it/s]\n"
     ]
    },
    {
     "name": "stdout",
     "output_type": "stream",
     "text": [
      "Epoch 4/30, Train Loss: 0.8209, Train Accuracy: 69.90%, Val Loss: 0.7937, Val Accuracy: 70.87%, Time: 906.55 sec\n"
     ]
    },
    {
     "name": "stderr",
     "output_type": "stream",
     "text": [
      "Epoch 5/30 - Training: 100%|██████████| 1811/1811 [10:32<00:00,  2.86it/s]\n",
      "Validation: 100%|██████████| 453/453 [01:42<00:00,  4.43it/s]\n"
     ]
    },
    {
     "name": "stdout",
     "output_type": "stream",
     "text": [
      "Epoch 5/30, Train Loss: 0.7808, Train Accuracy: 71.30%, Val Loss: 0.7798, Val Accuracy: 71.19%, Time: 734.91 sec\n"
     ]
    },
    {
     "name": "stderr",
     "output_type": "stream",
     "text": [
      "Epoch 6/30 - Training: 100%|██████████| 1811/1811 [12:57<00:00,  2.33it/s]\n",
      "Validation: 100%|██████████| 453/453 [02:51<00:00,  2.63it/s]\n"
     ]
    },
    {
     "name": "stdout",
     "output_type": "stream",
     "text": [
      "Epoch 6/30, Train Loss: 0.7507, Train Accuracy: 72.42%, Val Loss: 0.7588, Val Accuracy: 72.01%, Time: 949.47 sec\n"
     ]
    },
    {
     "name": "stderr",
     "output_type": "stream",
     "text": [
      "Epoch 7/30 - Training: 100%|██████████| 1811/1811 [13:51<00:00,  2.18it/s]\n",
      "Validation: 100%|██████████| 453/453 [02:56<00:00,  2.56it/s]\n"
     ]
    },
    {
     "name": "stdout",
     "output_type": "stream",
     "text": [
      "Epoch 7/30, Train Loss: 0.7311, Train Accuracy: 73.05%, Val Loss: 0.7443, Val Accuracy: 72.91%, Time: 1008.22 sec\n"
     ]
    },
    {
     "name": "stderr",
     "output_type": "stream",
     "text": [
      "Epoch 8/30 - Training: 100%|██████████| 1811/1811 [15:27<00:00,  1.95it/s]\n",
      "Validation: 100%|██████████| 453/453 [02:56<00:00,  2.57it/s]\n"
     ]
    },
    {
     "name": "stdout",
     "output_type": "stream",
     "text": [
      "Epoch 8/30, Train Loss: 0.7020, Train Accuracy: 74.34%, Val Loss: 0.7383, Val Accuracy: 72.78%, Time: 1103.42 sec\n"
     ]
    },
    {
     "name": "stderr",
     "output_type": "stream",
     "text": [
      "Epoch 9/30 - Training: 100%|██████████| 1811/1811 [15:52<00:00,  1.90it/s]\n",
      "Validation: 100%|██████████| 453/453 [02:59<00:00,  2.53it/s]\n"
     ]
    },
    {
     "name": "stdout",
     "output_type": "stream",
     "text": [
      "Epoch 9/30, Train Loss: 0.6802, Train Accuracy: 75.06%, Val Loss: 0.7291, Val Accuracy: 73.10%, Time: 1131.69 sec\n"
     ]
    },
    {
     "name": "stderr",
     "output_type": "stream",
     "text": [
      "Epoch 10/30 - Training: 100%|██████████| 1811/1811 [14:27<00:00,  2.09it/s]\n",
      "Validation: 100%|██████████| 453/453 [01:38<00:00,  4.58it/s]\n"
     ]
    },
    {
     "name": "stdout",
     "output_type": "stream",
     "text": [
      "Epoch 10/30, Train Loss: 0.6584, Train Accuracy: 75.84%, Val Loss: 0.7177, Val Accuracy: 73.86%, Time: 966.56 sec\n"
     ]
    },
    {
     "name": "stderr",
     "output_type": "stream",
     "text": [
      "Epoch 11/30 - Training: 100%|██████████| 1811/1811 [12:58<00:00,  2.33it/s]\n",
      "Validation: 100%|██████████| 453/453 [02:54<00:00,  2.60it/s]\n"
     ]
    },
    {
     "name": "stdout",
     "output_type": "stream",
     "text": [
      "Epoch 11/30, Train Loss: 0.6482, Train Accuracy: 76.26%, Val Loss: 0.7302, Val Accuracy: 73.49%, Time: 952.75 sec\n"
     ]
    },
    {
     "name": "stderr",
     "output_type": "stream",
     "text": [
      "Epoch 12/30 - Training: 100%|██████████| 1811/1811 [15:04<00:00,  2.00it/s]\n",
      "Validation: 100%|██████████| 453/453 [02:57<00:00,  2.55it/s]\n"
     ]
    },
    {
     "name": "stdout",
     "output_type": "stream",
     "text": [
      "Epoch 12/30, Train Loss: 0.6205, Train Accuracy: 77.06%, Val Loss: 0.7143, Val Accuracy: 73.98%, Time: 1081.95 sec\n"
     ]
    },
    {
     "name": "stderr",
     "output_type": "stream",
     "text": [
      "Epoch 13/30 - Training: 100%|██████████| 1811/1811 [11:49<00:00,  2.55it/s]\n",
      "Validation: 100%|██████████| 453/453 [01:38<00:00,  4.59it/s]\n"
     ]
    },
    {
     "name": "stdout",
     "output_type": "stream",
     "text": [
      "Epoch 13/30, Train Loss: 0.6073, Train Accuracy: 77.54%, Val Loss: 0.7251, Val Accuracy: 73.96%, Time: 808.16 sec\n"
     ]
    },
    {
     "name": "stderr",
     "output_type": "stream",
     "text": [
      "Epoch 14/30 - Training: 100%|██████████| 1811/1811 [12:19<00:00,  2.45it/s]\n",
      "Validation: 100%|██████████| 453/453 [02:56<00:00,  2.56it/s]\n"
     ]
    },
    {
     "name": "stdout",
     "output_type": "stream",
     "text": [
      "Epoch 14/30, Train Loss: 0.5849, Train Accuracy: 78.48%, Val Loss: 0.7158, Val Accuracy: 74.26%, Time: 916.51 sec\n"
     ]
    },
    {
     "name": "stderr",
     "output_type": "stream",
     "text": [
      "Epoch 15/30 - Training: 100%|██████████| 1811/1811 [11:05<00:00,  2.72it/s]\n",
      "Validation: 100%|██████████| 453/453 [01:40<00:00,  4.51it/s]\n"
     ]
    },
    {
     "name": "stdout",
     "output_type": "stream",
     "text": [
      "Epoch 15/30, Train Loss: 0.5750, Train Accuracy: 78.89%, Val Loss: 0.7307, Val Accuracy: 73.94%, Time: 766.36 sec\n"
     ]
    },
    {
     "name": "stderr",
     "output_type": "stream",
     "text": [
      "Epoch 16/30 - Training: 100%|██████████| 1811/1811 [14:42<00:00,  2.05it/s]\n",
      "Validation: 100%|██████████| 453/453 [02:51<00:00,  2.65it/s]\n"
     ]
    },
    {
     "name": "stdout",
     "output_type": "stream",
     "text": [
      "Epoch 16/30, Train Loss: 0.5553, Train Accuracy: 79.71%, Val Loss: 0.7328, Val Accuracy: 74.14%, Time: 1054.06 sec\n"
     ]
    },
    {
     "name": "stderr",
     "output_type": "stream",
     "text": [
      "Epoch 17/30 - Training: 100%|██████████| 1811/1811 [15:15<00:00,  1.98it/s]\n",
      "Validation: 100%|██████████| 453/453 [02:56<00:00,  2.57it/s]\n"
     ]
    },
    {
     "name": "stdout",
     "output_type": "stream",
     "text": [
      "Epoch 17/30, Train Loss: 0.5377, Train Accuracy: 80.33%, Val Loss: 0.7397, Val Accuracy: 74.30%, Time: 1091.73 sec\n"
     ]
    },
    {
     "name": "stderr",
     "output_type": "stream",
     "text": [
      "Epoch 18/30 - Training: 100%|██████████| 1811/1811 [11:58<00:00,  2.52it/s]\n",
      "Validation: 100%|██████████| 453/453 [02:57<00:00,  2.55it/s]\n"
     ]
    },
    {
     "name": "stdout",
     "output_type": "stream",
     "text": [
      "Epoch 18/30, Train Loss: 0.5268, Train Accuracy: 80.61%, Val Loss: 0.7429, Val Accuracy: 74.60%, Time: 895.45 sec\n"
     ]
    },
    {
     "name": "stderr",
     "output_type": "stream",
     "text": [
      "Epoch 19/30 - Training: 100%|██████████| 1811/1811 [15:27<00:00,  1.95it/s]\n",
      "Validation: 100%|██████████| 453/453 [01:57<00:00,  3.84it/s]\n"
     ]
    },
    {
     "name": "stdout",
     "output_type": "stream",
     "text": [
      "Epoch 19/30, Train Loss: 0.4342, Train Accuracy: 83.97%, Val Loss: 0.7063, Val Accuracy: 75.47%, Time: 1045.73 sec\n"
     ]
    },
    {
     "name": "stderr",
     "output_type": "stream",
     "text": [
      "Epoch 20/30 - Training: 100%|██████████| 1811/1811 [10:42<00:00,  2.82it/s]\n",
      "Validation: 100%|██████████| 453/453 [01:38<00:00,  4.60it/s]\n"
     ]
    },
    {
     "name": "stdout",
     "output_type": "stream",
     "text": [
      "Epoch 20/30, Train Loss: 0.4004, Train Accuracy: 85.32%, Val Loss: 0.7105, Val Accuracy: 76.16%, Time: 741.04 sec\n"
     ]
    },
    {
     "name": "stderr",
     "output_type": "stream",
     "text": [
      "Epoch 21/30 - Training: 100%|██████████| 1811/1811 [10:09<00:00,  2.97it/s]\n",
      "Validation: 100%|██████████| 453/453 [01:37<00:00,  4.62it/s]\n"
     ]
    },
    {
     "name": "stdout",
     "output_type": "stream",
     "text": [
      "Epoch 21/30, Train Loss: 0.3840, Train Accuracy: 85.84%, Val Loss: 0.7300, Val Accuracy: 75.62%, Time: 707.31 sec\n"
     ]
    },
    {
     "name": "stderr",
     "output_type": "stream",
     "text": [
      "Epoch 22/30 - Training: 100%|██████████| 1811/1811 [10:09<00:00,  2.97it/s]\n",
      "Validation: 100%|██████████| 453/453 [01:39<00:00,  4.56it/s]\n"
     ]
    },
    {
     "name": "stdout",
     "output_type": "stream",
     "text": [
      "Epoch 22/30, Train Loss: 0.3729, Train Accuracy: 86.37%, Val Loss: 0.7092, Val Accuracy: 76.69%, Time: 708.43 sec\n"
     ]
    },
    {
     "name": "stderr",
     "output_type": "stream",
     "text": [
      "Epoch 23/30 - Training: 100%|██████████| 1811/1811 [10:08<00:00,  2.97it/s]\n",
      "Validation: 100%|██████████| 453/453 [01:38<00:00,  4.61it/s]\n"
     ]
    },
    {
     "name": "stdout",
     "output_type": "stream",
     "text": [
      "Epoch 23/30, Train Loss: 0.3646, Train Accuracy: 86.65%, Val Loss: 0.7333, Val Accuracy: 76.17%, Time: 707.09 sec\n"
     ]
    },
    {
     "name": "stderr",
     "output_type": "stream",
     "text": [
      "Epoch 24/30 - Training: 100%|██████████| 1811/1811 [10:09<00:00,  2.97it/s]\n",
      "Validation: 100%|██████████| 453/453 [01:38<00:00,  4.61it/s]\n"
     ]
    },
    {
     "name": "stdout",
     "output_type": "stream",
     "text": [
      "Epoch 24/30, Train Loss: 0.3548, Train Accuracy: 86.99%, Val Loss: 0.7262, Val Accuracy: 76.07%, Time: 707.72 sec\n"
     ]
    },
    {
     "name": "stderr",
     "output_type": "stream",
     "text": [
      "Epoch 25/30 - Training: 100%|██████████| 1811/1811 [10:27<00:00,  2.89it/s]\n",
      "Validation: 100%|██████████| 453/453 [01:37<00:00,  4.63it/s]\n"
     ]
    },
    {
     "name": "stdout",
     "output_type": "stream",
     "text": [
      "Epoch 25/30, Train Loss: 0.3455, Train Accuracy: 87.35%, Val Loss: 0.7388, Val Accuracy: 76.17%, Time: 725.38 sec\n"
     ]
    },
    {
     "name": "stderr",
     "output_type": "stream",
     "text": [
      "Epoch 26/30 - Training: 100%|██████████| 1811/1811 [10:10<00:00,  2.97it/s]\n",
      "Validation: 100%|██████████| 453/453 [01:38<00:00,  4.60it/s]\n"
     ]
    },
    {
     "name": "stdout",
     "output_type": "stream",
     "text": [
      "Epoch 26/30, Train Loss: 0.3337, Train Accuracy: 87.80%, Val Loss: 0.7453, Val Accuracy: 76.01%, Time: 708.52 sec\n"
     ]
    },
    {
     "name": "stderr",
     "output_type": "stream",
     "text": [
      "Epoch 27/30 - Training: 100%|██████████| 1811/1811 [10:08<00:00,  2.97it/s]\n",
      "Validation: 100%|██████████| 453/453 [01:38<00:00,  4.62it/s]\n"
     ]
    },
    {
     "name": "stdout",
     "output_type": "stream",
     "text": [
      "Epoch 27/30, Train Loss: 0.3311, Train Accuracy: 87.85%, Val Loss: 0.7289, Val Accuracy: 76.39%, Time: 706.91 sec\n"
     ]
    },
    {
     "name": "stderr",
     "output_type": "stream",
     "text": [
      "Epoch 28/30 - Training: 100%|██████████| 1811/1811 [10:27<00:00,  2.89it/s]\n",
      "Validation: 100%|██████████| 453/453 [01:38<00:00,  4.60it/s]\n"
     ]
    },
    {
     "name": "stdout",
     "output_type": "stream",
     "text": [
      "Epoch 28/30, Train Loss: 0.3282, Train Accuracy: 87.88%, Val Loss: 0.7398, Val Accuracy: 76.56%, Time: 726.03 sec\n"
     ]
    },
    {
     "name": "stderr",
     "output_type": "stream",
     "text": [
      "Epoch 29/30 - Training: 100%|██████████| 1811/1811 [10:09<00:00,  2.97it/s]\n",
      "Validation: 100%|██████████| 453/453 [01:40<00:00,  4.50it/s]\n"
     ]
    },
    {
     "name": "stdout",
     "output_type": "stream",
     "text": [
      "Epoch 29/30, Train Loss: 0.3227, Train Accuracy: 88.08%, Val Loss: 0.7334, Val Accuracy: 76.35%, Time: 709.91 sec\n"
     ]
    },
    {
     "name": "stderr",
     "output_type": "stream",
     "text": [
      "Epoch 30/30 - Training: 100%|██████████| 1811/1811 [13:37<00:00,  2.22it/s]\n",
      "Validation: 100%|██████████| 453/453 [02:34<00:00,  2.93it/s]"
     ]
    },
    {
     "name": "stdout",
     "output_type": "stream",
     "text": [
      "Epoch 30/30, Train Loss: 0.3275, Train Accuracy: 87.89%, Val Loss: 0.7477, Val Accuracy: 76.10%, Time: 971.66 sec\n"
     ]
    },
    {
     "name": "stderr",
     "output_type": "stream",
     "text": [
      "\n"
     ]
    }
   ],
   "source": [
    "# Treningni boshlash DenseNet121\n",
    "num_epochs = 30\n",
    "train_losses, train_accuracies, val_losses, val_accuracies, epoch_times = train_and_validate(\n",
    "    model, criterion, optimizer, train_loader, val_loader, num_epochs\n",
    ")"
   ]
  },
  {
   "cell_type": "markdown",
   "metadata": {},
   "source": [
    "# Visualization VGG Net"
   ]
  },
  {
   "cell_type": "code",
   "execution_count": 2,
   "metadata": {},
   "outputs": [
    {
     "data": {
      "image/png": "[encoded data removed]",
      "text/plain": [
       "<Figure size 1200x500 with 2 Axes>"
      ]
     },
     "metadata": {},
     "output_type": "display_data"
    }
   ],
   "source": [
    "def plot_training(history):\n",
    "    epochs = range(1, len(history['train_loss']) + 1)\n",
    "    \n",
    "    # Loss plot\n",
    "    plt.figure(figsize=(12, 5))\n",
    "    plt.subplot(1, 2, 1)\n",
    "    plt.plot(epochs, history['train_loss'], label='Train Loss', marker='o')\n",
    "    plt.plot(epochs, history['val_loss'], label='Validation Loss', marker='o')\n",
    "    plt.xlabel('Epochs')\n",
    "    plt.ylabel('Loss')\n",
    "    plt.title(' VGGNet model Training and Validation Loss')\n",
    "    plt.legend()\n",
    "    plt.grid()\n",
    "    \n",
    "    # Accuracy plot\n",
    "    plt.subplot(1, 2, 2)\n",
    "    plt.plot(epochs, history['train_acc'], label='Train Accuracy', marker='o')\n",
    "    plt.plot(epochs, history['val_acc'], label='Validation Accuracy', marker='o')\n",
    "    plt.xlabel('Epochs')\n",
    "    plt.ylabel('Accuracy')\n",
    "    plt.title(' VGGNet model Training and Validation Accuracy')\n",
    "    plt.legend()\n",
    "    plt.grid()\n",
    "    \n",
    "    plt.show()\n",
    "\n",
    "# Misol uchun tarix\n",
    "history = {\n",
    "    'train_loss': [1.2941, 1.0195, 0.9349, 0.8819, 0.8527, 0.8141, 0.7927, 0.7667, 0.7501, 0.7252, 0.7080, 0.6921, 0.6754, 0.6604, 0.6481, 0.6298, 0.6211, 0.6096, 0.5933, 0.5833, 0.5732, 0.5648, 0.5491, 0.5461, 0.5336, 0.5219, 0.5164, 0.4175, 0.3752, 0.3618],\n",
    "    'val_loss': [1.0546, 1.0103, 0.9403, 0.8798, 0.8624, 0.8755, 0.8522, 0.8383, 0.8500, 0.7858, 0.7899, 0.7859, 0.7926, 0.7874, 0.7849, 0.7912, 0.7793, 0.7695, 0.8021, 0.7830, 0.7599, 0.8046, 0.8212, 0.7849, 0.7903, 0.7752, 0.7896, 0.7686, 0.7805, 0.8027],\n",
    "    'train_acc': [51.33, 62.30, 65.48, 67.59, 68.65, 70.12, 70.69, 71.54, 72.30, 73.17, 73.89, 74.31, 75.30, 75.59, 76.07, 76.83, 77.25, 77.57, 78.28, 78.51, 78.96, 79.12, 79.91, 79.87, 80.55, 80.72, 81.22, 84.64, 86.20, 86.67],\n",
    "    'val_acc': [60.98, 62.77, 65.37, 67.43, 68.70, 67.94, 68.95, 68.84, 69.58, 71.44, 70.65, 71.53, 71.28, 71.96, 71.99, 72.46, 72.45, 71.86, 71.84, 72.09, 73.24, 73.07, 72.24, 72.31, 72.78, 73.01, 72.93, 74.56, 74.61, 74.50]\n",
    "}\n",
    "\n",
    "plot_training(history)"
   ]
  },
  {
   "cell_type": "markdown",
   "metadata": {},
   "source": [
    "# Visualization DenseNet"
   ]
  },
  {
   "cell_type": "code",
   "execution_count": 11,
   "metadata": {},
   "outputs": [
    {
     "data": {
      "image/png": "[encoded data removed]",
      "text/plain": [
       "<Figure size 1200x500 with 2 Axes>"
      ]
     },
     "metadata": {},
     "output_type": "display_data"
    }
   ],
   "source": [
    "def plot_training(history):\n",
    "    epochs = range(1, len(history['train_loss']) + 1)\n",
    "    \n",
    "    # Loss plot\n",
    "    plt.figure(figsize=(12, 5))\n",
    "    plt.subplot(1, 2, 1)\n",
    "    plt.plot(epochs, history['train_loss'], label='Train Loss', marker='o')\n",
    "    plt.plot(epochs, history['val_loss'], label='Validation Loss', marker='o')\n",
    "    plt.xlabel('Epochs')\n",
    "    plt.ylabel('Loss')\n",
    "    plt.title(' DenseNet model Training and Validation Loss')\n",
    "    plt.legend()\n",
    "    plt.grid()\n",
    "    \n",
    "    # Accuracy plot\n",
    "    plt.subplot(1, 2, 2)\n",
    "    plt.plot(epochs, history['train_acc'], label='Train Accuracy', marker='o')\n",
    "    plt.plot(epochs, history['val_acc'], label='Validation Accuracy', marker='o')\n",
    "    plt.xlabel('Epochs')\n",
    "    plt.ylabel('Accuracy')\n",
    "    plt.title(' DenseNet model Training and Validation Accuracy')\n",
    "    plt.legend()\n",
    "    plt.grid()\n",
    "    \n",
    "    plt.show()\n",
    "\n",
    "# Misol uchun tarix\n",
    "history = {\n",
    "    'train_loss': [1.2021, 0.9415, 0.8700, 0.8209, 0.7808, 0.7507, 0.7311, 0.7020, 0.6802, 0.6584, 0.6482, 0.6205, 0.6073, 0.5849, 0.5750, 0.5553, 0.5377, 0.5268, 0.4342, 0.4004, 0.3840, 0.3729, 0.3646, 0.3548, 0.3455, 0.3337, 0.3311, 0.3282, 0.3227, 0.3275],\n",
    "    'val_loss': [0.9484, 0.8502, 0.8301, 0.7937, 0.7798, 0.7588, 0.7443, 0.7383, 0.7291, 0.7177, 0.7302, 0.7143, 0.7251, 0.7158, 0.7307, 0.7328, 0.7397, 0.7429, 0.7063, 0.7105, 0.7300, 0.7092, 0.7333, 0.7262, 0.7388, 0.7453, 0.7289, 0.7398, 0.7334, 0.7477],\n",
    "    'train_acc': [55.37, 65.25, 67.99, 69.90, 71.30, 72.42, 73.05, 74.34, 75.06, 75.84, 76.26, 77.06, 77.54, 78.48, 78.89, 79.71, 80.33, 80.61, 83.97, 85.32, 85.84, 86.37, 86.65, 86.99, 87.35, 87.80, 87.85, 87.88, 88.08, 87.89],\n",
    "    'val_acc': [65.23, 68.23, 69.15, 70.87, 71.19, 72.01, 72.91, 72.78, 73.10, 73.86, 73.49, 73.98, 73.96, 74.26, 73.94, 74.14, 74.30, 74.60, 75.47, 76.16, 75.62, 76.69, 76.17, 76.07, 76.17, 76.01, 76.39, 76.56, 76.35, 76.10]\n",
    "}\n",
    "\n",
    "plot_training(history)"
   ]
  },
  {
   "cell_type": "markdown",
   "metadata": {},
   "source": [
    "# Visualization ResNet50"
   ]
  },
  {
   "cell_type": "code",
   "execution_count": 12,
   "metadata": {},
   "outputs": [
    {
     "data": {
      "image/png": "[encoded data removed]",
      "text/plain": [
       "<Figure size 1200x500 with 2 Axes>"
      ]
     },
     "metadata": {},
     "output_type": "display_data"
    }
   ],
   "source": [
    "def plot_training(history):\n",
    "    epochs = range(1, len(history['train_loss']) + 1)\n",
    "    \n",
    "    # Loss plot\n",
    "    plt.figure(figsize=(12, 5))\n",
    "    plt.subplot(1, 2, 1)\n",
    "    plt.plot(epochs, history['train_loss'], label='Train Loss', marker='o')\n",
    "    plt.plot(epochs, history['val_loss'], label='Validation Loss', marker='o')\n",
    "    plt.xlabel('Epochs')\n",
    "    plt.ylabel('Loss')\n",
    "    plt.title('ResNet model Training and Validation Loss')\n",
    "    plt.legend()\n",
    "    plt.grid()\n",
    "    \n",
    "    # Accuracy plot\n",
    "    plt.subplot(1, 2, 2)\n",
    "    plt.plot(epochs, history['train_acc'], label='Train Accuracy', marker='o')\n",
    "    plt.plot(epochs, history['val_acc'], label='Validation Accuracy', marker='o')\n",
    "    plt.xlabel('Epochs')\n",
    "    plt.ylabel('Accuracy')\n",
    "    plt.title('ResNet model Training and Validation Accuracy')\n",
    "    plt.legend()\n",
    "    plt.grid()\n",
    "    \n",
    "    plt.show()\n",
    "\n",
    "# Misol uchun tarix\n",
    "history = {\n",
    "    'train_loss': [1.2162, 1.0093, 0.9356, 0.8840, 0.8477, 0.8178, 0.7933, 0.7726, 0.7547, 0.7350, 0.7190, 0.7045, 0.6903, 0.6751, 0.6620, 0.6488, 0.6371, 0.6196, 0.6094, 0.6009, 0.5890, 0.5795, 0.5615, 0.5530, 0.5458, 0.5362, 0.5261, 0.5184, 0.5091, 0.4147],\n",
    "    'val_loss': [0.9787, 0.8974, 0.8761, 0.8270, 0.8624, 0.8058, 0.7863, 0.7641, 0.7689, 0.7660, 0.7640, 0.7630, 0.7381, 0.7521, 0.7532, 0.7346, 0.7342, 0.7338, 0.7287, 0.7413, 0.7483, 0.7324, 0.7126, 0.7785, 0.7314, 0.7435, 0.7398, 0.7448, 0.7519, 0.7135],\n",
    "    'train_acc': [54.99, 62.83, 65.76, 67.43, 68.78, 69.95, 70.57, 71.56, 72.37, 72.92, 73.49, 74.00, 74.62, 75.37, 75.56, 75.95, 76.45, 77.09, 77.56, 77.80, 78.31, 78.62, 79.25, 79.68, 79.88, 80.06, 80.65, 81.06, 81.24, 84.74],\n",
    "    'val_acc': [64.23, 66.42, 67.85, 69.71, 67.96, 70.52, 71.04, 71.55, 71.68, 71.36, 71.90, 72.11, 72.59, 72.26, 72.39, 73.15, 72.86, 73.41, 73.03, 73.73, 73.42, 73.67, 74.20, 72.49, 73.97, 73.40, 73.87, 73.89, 74.22, 75.92]\n",
    "}\n",
    "\n",
    "plot_training(history)"
   ]
  }
 ],
 "metadata": {
  "kernelspec": {
   "display_name": "Python 3",
   "language": "python",
   "name": "python3"
  },
  "language_info": {
   "codemirror_mode": {
    "name": "ipython",
    "version": 3
   },
   "file_extension": ".py",
   "mimetype": "text/x-python",
   "name": "python",
   "nbconvert_exporter": "python",
   "pygments_lexer": "ipython3",
   "version": "3.12.5"
  }
 },
 "nbformat": 4,
 "nbformat_minor": 2
}
